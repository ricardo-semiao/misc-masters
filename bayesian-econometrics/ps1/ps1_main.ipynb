{
 "cells": [
  {
   "cell_type": "markdown",
   "metadata": {},
   "source": [
    "---\n",
    "title: \"Bayesian Econometrics - Problem Set - Estimating US Yield Curve\"\n",
    "author: \"Ricardo Semião e Castro\"\n",
    "date: \"2025/03/29\"\n",
    "---"
   ]
  },
  {
   "cell_type": "markdown",
   "metadata": {},
   "source": [
    "# Introduction\n",
    "\n",
    "The term structure of interest rates, known as the yield curve, illustrates the connection between the remaining time until debt securities mature and the yield they offer.  Yield curves serve multiple practical purposes, such as pricing different fixed-income securities. They are closely monitored by both market participants and policymakers, as they can provide valuable insights into the market’s sentiment regarding the future direction of the policy rate and the overall macroeconomic outlook.\n",
    "\n",
    "The Nelson-Siegel model, introduced in [1], interpolates the yield curve (in terms of spot rates) by the following function:\n",
    "\n",
    "$$\n",
    "s(\\tau)=\\beta_{0}+\\beta_{1}\\cdot\\left\\{\\frac{1-e^{-\\tau/\\lambda}}{\\tau/\\lambda}\\right\\}+\\beta_{2}\\cdot\\left[\\left\\{\\frac{1-e^{-\\tau/\\lambda}}{\\tau\\ /\\lambda}\\right\\}-e^{-\\tau/\\lambda}\\right]\n",
    "$$\n",
    "where $s(\\tau)$ is the spot rate at any given time to maturity $\\tau$, and $\\beta_0$, $\\beta_1$, $\\beta_2$, and $\\lambda$ are model parameters. This parametric model captures stylized shapes observed in yield curves, including monotonic, humped, and S-shaped curves. Parameters $\\beta_0$, $\\beta_1$, and $\\beta_2$ are interpreted as the level, slope, and curvature factors, respectively, as they control the long, short, and medium segments of the curve. The decay parameter $\\lambda$ determines the exponential decay rate (in months to maturity) of the slope and curvature factors, in addition to controlling the location of the hump (or trough) associated with the curvature factor.\n",
    "\n",
    "We construct the term structure of interest rates by taking weekly closing prices zero coupon yields released by Bloomberg. We consider the following fixed maturities ($\\tau$): 3, 6, 12, 24, 30, 36, 48, 60, 72, 84, 96, 108, 180, 240, and 360 months. The data covers three years, from the first week of 2019 until the last week of 2021.\n",
    "\n",
    "Let $y_{it}$ denote the weekly yield on date $t$ ($t = 1, \\ldots, 157$) at maturity $\\tau_i$ ($i = 1, \\ldots, 15$), i.e., $t = 1$ is the 1st week of 2019, $t = 157$ is the last week of 2021, and $\\tau_1 = 3$, $\\tau_2 = 6$, ..., $\\tau_{15} = 360$. The yield is modelled by:\n",
    "\n",
    "$$\n",
    "y_{i t}=s(\\tau_{i})+u_{i t},\\quad u_{i t}\\sim N I D(0,\\sigma^{2})\n",
    "$$"
   ]
  },
  {
   "cell_type": "markdown",
   "metadata": {},
   "source": [
    "# Questions"
   ]
  },
  {
   "cell_type": "markdown",
   "metadata": {},
   "source": [
    "Let $\\theta \\coloneqq (\\beta_0, \\beta_1, \\beta_2, \\lambda, \\sigma^2)$ and $\\theta_j$ denote the $j$-th element of $\\theta$."
   ]
  },
  {
   "cell_type": "markdown",
   "metadata": {},
   "source": [
    "## Question 1\n",
    "\n",
    "> Propose prior distributions for the parameters $\\beta_0$, $\\beta_1$, $\\beta_2$, and $\\lambda$ explaining your choices and listing all references used.\n",
    "\n",
    "The topic of prior selection is important, and one must follow good practices. Lets start with support restrictions.\n",
    "\n",
    "With $\\sigma^2$ being a variance and $\\lambda$ being the (positive) decay parameters, their prior distributions must have non-negative support.\n",
    "\n",
    "The parameters associated with the interest rate levels, the $\\beta$s, can also be tought as only non-negative in normal conditions, and could be modelled as such. However, in some cases, the interest rate can be negative, and one could consider distributions accordingly. For starters, I'll consider the $[0, \\infty)$ restriction for the $\\beta$s, and will relax this in the future if I can.\n",
    "\n",
    "Now, to consider a family of distributions given these restrictions, we could look into past data and existing literature. Another important aspect to consider is using conjugate priors, as they imply in easier-to-work-with posterior distributions.\n",
    "\n",
    "I will comply with common practices and use the Gamma family for the non-negative variables. Now, it is needed to define the parameters of each distribution:\n",
    "\n",
    "- $\\lambda$, $\\beta_1$, and $\\beta_2$ are multipliers, so I'll consider a Gamma distribution with mean $1$.\n",
    "- $\\sigma^2$ is a Normal variable variance, so I'll consider a mean of $1$, for standard normal.\n",
    "- For the variances, I'll consider high levels, as to not restrict the posterior too much. For the means to be $1$, I'll have $\\alpha = 0.1$ and $\\beta = 10$, yielding a $\\approx  3.1623$.\n",
    "- For $\\beta_0$, I'll set the prior's mean to be the same as the historical mean of the yields, approximatelly $1.25$. For that, I'll set $\\alpha = 0.125$, and keep the same $\\beta$.\n",
    "\n",
    "All the parameters are set to be independent, from a Gamma distribution, each with its own parameters $\\alpha_j$ and $\\beta_j$.\n",
    "\n",
    "$$\n",
    "\\begin{align*}\n",
    "&\\beta_1, \\beta_2, \\sigma^2, \\lambda \\sim G(0.1, 10),~~ \\beta_0 \\sim G(0.125, 10) \\\\\n",
    "& \\theta \\sim \\prod_{j=1}^5 F_G(\\alpha_j, \\beta_j) = F_G(0.125, 10) \\cdot F_G(0.1, 10)^4\\\\\n",
    "& p(\\theta) \\sim \\prod_{j=1}^5 f_G(\\theta_j; \\alpha_j, \\beta_j) = \\left(\\frac{\\theta_0^{-0.875}e^{-0.1\\theta_0}}{\\theta_0^{0.125}\\Gamma(0.125)}\\right)\\left(\\prod_{j = 2}^4\\frac{\\theta_j^{-0.9}e^{-0.1\\theta_j}}{\\theta_j^{0.1}\\Gamma(0.1)}\\right)^4\n",
    "\\end{align*}\n",
    "$$\n",
    "\n",
    "Where $F_G(\\alpha, \\beta)$ and $f_G(x; \\alpha, \\beta)$ is the CDF and PDF of the Gamma distribution with parameters $\\alpha$ and $\\beta$, and $\\Gamma(x)$ is the gamma function."
   ]
  },
  {
   "cell_type": "markdown",
   "metadata": {},
   "source": [
    "## Question 2\n",
    "\n",
    "> Write the likelihood function of your model."
   ]
  },
  {
   "cell_type": "markdown",
   "metadata": {},
   "source": [
    "The likelihood function is:\n",
    "\n",
    "$$\n",
    "L(\\theta) = p(y|\\theta) \\big|_y\n",
    "$$\n",
    "\n",
    "Thus, we need to find $p(y|\\theta)$. Lets start with the given model of the yield, and substitute the NS model.\n",
    "\n",
    "$$\n",
    "\\begin{align*}\n",
    "y_{i t} &= s(\\tau_{i})+u_{i t}\\\\\n",
    "&= \\beta_{0}+\\beta_{1}\\cdot\\left\\{\\frac{1-e^{-\\tau_i/\\lambda}}{\\tau_i/\\lambda}\\right\\}+\\beta_{2}\\cdot\\left[\\left\\{\\frac{1-e^{-\\tau_i/\\lambda}}{\\tau_i\\ /\\lambda}\\right\\}-e^{-\\tau_i/\\lambda}\\right]+u_{i t}\\\\\n",
    "\\end{align*}\n",
    "$$\n",
    "\n",
    "Given the parameters in $\\theta$, the only random term is $u_{it}$, such that $y_{it}|\\theta \\sim NID$. We must then find its parameterts (mean and variance). As $s(\\tau_{i}) \\perp u_{it}$, we can write:\n",
    "\n",
    "$$\n",
    "\\begin{align*}\n",
    "    E[y_{i t}|\\theta] &= E[s(\\tau_{i})|\\theta] + E[u_{i t}|\\theta] = s(\\tau_{i}) + 0\\\\\n",
    "    V[y_{i t}|\\theta] &= V[s(\\tau_{i})|\\theta] + V[u_{i t}|\\theta] = 0 + \\sigma^2\n",
    "\\end{align*}\n",
    "$$\n",
    "\n",
    "\n",
    "So $y_{it}|\\theta \\sim NID(s(\\tau_{i}), \\sigma^2)$.\n",
    "\n",
    "As $y_{it}|\\theta$ is IID, we can write the joint (conditional) distribution as the multiplication of the individual (conditional) distributions:\n",
    "\n",
    "$$\n",
    "\\begin{align*}\n",
    "    p(y|\\theta) &= \\prod_{i=1}^{15} \\prod_{t=1}^{157} \\phi(y_{it}; s(\\tau_{i}); \\sigma^2)\\\\\n",
    "    &= \\prod_{i=1}^{15} \\prod_{t=1}^{157} \\frac{1}{\\sqrt{2\\pi \\sigma^2}} \\exp\\left(-\\frac{(y_{it}-s(\\tau_{i}))^2}{2\\sigma^2}\\right)\\\\\n",
    "    &= \\prod_{i=1}^{15} \\prod_{t=1}^{157} \\frac{1}{\\sqrt{2\\pi \\sigma^2}} \\exp\\left(-\\frac{u_{it}^2}{2\\sigma^2}\\right)\\\\\n",
    "    &= \\prod_{i=1}^{15} \\prod_{t=1}^{157} \\phi(u_{it}; 0, \\sigma^2)\\\\\n",
    "\\end{align*}\n",
    "$$"
   ]
  },
  {
   "cell_type": "markdown",
   "metadata": {},
   "source": [
    "## Question 3\n",
    "\n",
    "> Propose (derive) an algorithm to estimate the parameters of the model (e.g, Gibbs sampler, Metropolis-Hastings, etc) showing all formulas required for implementation."
   ]
  },
  {
   "cell_type": "markdown",
   "metadata": {},
   "source": [
    "I am going to use a Metropolis-Hastings sampler. The algorithm is as below:\n",
    "\n",
    "1. Guess a starting value $\\theta^0$.\n",
    "2. Propose a distribution to sample a next candidate $\\theta^*$, $q$.\n",
    "3. Set $\\theta^i = \\theta^*$ with probability $\\alpha$ or as $\\theta^{i-1}$ with the complementar, where $\\alpha$ (called acceptance rate) is:\n",
    "    \n",
    "$$\n",
    "\\alpha\\equiv\\alpha(\\theta^{(i-1)};\\theta^{*})=\\operatorname*{min}\\left\\{{\\frac{p(\\theta^{*}|y)}{q(\\theta^{*}|\\theta^{(i-1)})}}{\\frac{q(\\theta^{(i-1)}|\\theta^{*})}{p(\\theta^{(i-1)}|y)}},1\\right\\} =\\\\\n",
    "\\operatorname*{min}\\left\\{\\frac{p(\\theta^{*}|y)}{p(\\theta^{(i-1)}|y)}\\frac{q(\\theta^{(i-1)}|\\theta^{*})}{q(\\theta^{*}|\\theta^{(i-1)})},1\\right\\}\n",
    "$$\n",
    "    \n",
    "4. Iterate $i = 1,2,\\dots,N$ to get your sample.\n",
    "5. We remove the first $N_0$ observations to remove dependence on the guess $\\theta^0$. We end up with $N_1 = N - N_0$ samples.\n",
    "6. We estimate our metric of interest $\\hat \\alpha \\approx g(\\theta)$ with $\\frac{1}{N_1}\\sum_{i=N_0+1}^N g(\\theta^i)$.\n",
    "\n",
    "The values for $N$ and $N_0$ are arbitrary, and will be left to be chosen during the coding implementation."
   ]
  },
  {
   "cell_type": "markdown",
   "metadata": {},
   "source": [
    "The proposed distribution $q$ is a normal distribution, with mean $\\theta^{(i-1)}$ and variance $\\sigma^2$. This is a common choice, as it is symmetric on the conditional, thus the second term of $\\alpha$ is $1$. The posterior function will be proportional to the likelihood times the prior, and will be calculated like such in the code."
   ]
  },
  {
   "cell_type": "markdown",
   "metadata": {},
   "source": [
    "## Question 4\n",
    "\n",
    "> Implement the proposed algorithm in your language of choice and present sampler diagnostics, using the data in weekly yield sheet."
   ]
  },
  {
   "cell_type": "markdown",
   "metadata": {},
   "source": [
    "To begin, we load the necessary libraries."
   ]
  },
  {
   "cell_type": "code",
   "execution_count": 2,
   "metadata": {
    "vscode": {
     "languageId": "r"
    }
   },
   "outputs": [
    {
     "name": "stderr",
     "output_type": "stream",
     "text": [
      "── \u001b[1mAttaching core tidyverse packages\u001b[22m ──────────────────────── tidyverse 2.0.0 ──\n",
      "\u001b[32m✔\u001b[39m \u001b[34mdplyr    \u001b[39m 1.1.4     \u001b[32m✔\u001b[39m \u001b[34mreadr    \u001b[39m 2.1.5\n",
      "\u001b[32m✔\u001b[39m \u001b[34mforcats  \u001b[39m 1.0.0     \u001b[32m✔\u001b[39m \u001b[34mstringr  \u001b[39m 1.5.1\n",
      "\u001b[32m✔\u001b[39m \u001b[34mggplot2  \u001b[39m 3.5.1     \u001b[32m✔\u001b[39m \u001b[34mtibble   \u001b[39m 3.2.1\n",
      "\u001b[32m✔\u001b[39m \u001b[34mlubridate\u001b[39m 1.9.4     \u001b[32m✔\u001b[39m \u001b[34mtidyr    \u001b[39m 1.3.1\n",
      "\u001b[32m✔\u001b[39m \u001b[34mpurrr    \u001b[39m 1.0.2     \n",
      "── \u001b[1mConflicts\u001b[22m ────────────────────────────────────────── tidyverse_conflicts() ──\n",
      "\u001b[31m✖\u001b[39m \u001b[34mpurrr\u001b[39m::\u001b[32m%@%()\u001b[39m         masks \u001b[34mrlang\u001b[39m::%@%()\n",
      "\u001b[31m✖\u001b[39m \u001b[34mdplyr\u001b[39m::\u001b[32mfilter()\u001b[39m      masks \u001b[34mstats\u001b[39m::filter()\n",
      "\u001b[31m✖\u001b[39m \u001b[34mpurrr\u001b[39m::\u001b[32mflatten()\u001b[39m     masks \u001b[34mrlang\u001b[39m::flatten()\n",
      "\u001b[31m✖\u001b[39m \u001b[34mpurrr\u001b[39m::\u001b[32mflatten_chr()\u001b[39m masks \u001b[34mrlang\u001b[39m::flatten_chr()\n",
      "\u001b[31m✖\u001b[39m \u001b[34mpurrr\u001b[39m::\u001b[32mflatten_dbl()\u001b[39m masks \u001b[34mrlang\u001b[39m::flatten_dbl()\n",
      "\u001b[31m✖\u001b[39m \u001b[34mpurrr\u001b[39m::\u001b[32mflatten_int()\u001b[39m masks \u001b[34mrlang\u001b[39m::flatten_int()\n",
      "\u001b[31m✖\u001b[39m \u001b[34mpurrr\u001b[39m::\u001b[32mflatten_lgl()\u001b[39m masks \u001b[34mrlang\u001b[39m::flatten_lgl()\n",
      "\u001b[31m✖\u001b[39m \u001b[34mpurrr\u001b[39m::\u001b[32mflatten_raw()\u001b[39m masks \u001b[34mrlang\u001b[39m::flatten_raw()\n",
      "\u001b[31m✖\u001b[39m \u001b[34mpurrr\u001b[39m::\u001b[32minvoke()\u001b[39m      masks \u001b[34mrlang\u001b[39m::invoke()\n",
      "\u001b[31m✖\u001b[39m \u001b[34mdplyr\u001b[39m::\u001b[32mlag()\u001b[39m         masks \u001b[34mstats\u001b[39m::lag()\n",
      "\u001b[31m✖\u001b[39m \u001b[34mpurrr\u001b[39m::\u001b[32msplice()\u001b[39m      masks \u001b[34mrlang\u001b[39m::splice()\n",
      "\u001b[36mℹ\u001b[39m Use the conflicted package (\u001b[3m\u001b[34m<http://conflicted.r-lib.org/>\u001b[39m\u001b[23m) to force all conflicts to become errors\n"
     ]
    }
   ],
   "source": [
    "library(rlang)\n",
    "library(tidyverse)\n",
    "library(patchwork)\n",
    "library(glue)"
   ]
  },
  {
   "cell_type": "markdown",
   "metadata": {},
   "source": [
    "Next, we load the yield data from an Excel file. We remove unnecessary columns, convert the data into a matrix format, and define the maturities (`taus`) and dimensions of the data."
   ]
  },
  {
   "cell_type": "code",
   "execution_count": 3,
   "metadata": {
    "vscode": {
     "languageId": "r"
    }
   },
   "outputs": [],
   "source": [
    "data <- readxl::read_excel(\"Yields_Bloomberg.xlsx\", sheet = \"weekly yield\") %>%\n",
    "  select(-DATA) %>%\n",
    "  as.matrix()\n",
    "\n",
    "taus <- c(6, 12, 24, 30, 36, 48, 60, 72, 84, 96, 108, 240, 360)\n",
    "\n",
    "n_t <- nrow(data)\n",
    "n_tau <- length(taus)"
   ]
  },
  {
   "cell_type": "markdown",
   "metadata": {},
   "source": [
    "We now define the prior distributions for the model parameters. Each parameter has its own prior distribution, and we also include a helper function to allow for using either the sampler function or the distribution function of the prior."
   ]
  },
  {
   "cell_type": "code",
   "execution_count": 4,
   "metadata": {
    "vscode": {
     "languageId": "r"
    }
   },
   "outputs": [],
   "source": [
    "get_dist <- function(dfun, rfun, x, args, draw = FALSE) {\n",
    "  if (draw) {\n",
    "    do.call(rfun, c(n = 1, args))\n",
    "  } else {\n",
    "    do.call(dfun, c(x = unname(x), args))\n",
    "  }\n",
    "}\n",
    "\n",
    "priors <- list(\n",
    "  beta0 = \\(x = NULL, draw = FALSE)  get_dist(dgamma, rgamma, 1/x, list(1, scale = 1), draw),\n",
    "  beta1 = \\(x = NULL, draw = FALSE)  get_dist(dgamma, rgamma, 1/x, list(1, scale = 1), draw),\n",
    "  beta2 = \\(x = NULL, draw = FALSE)  get_dist(dgamma, rgamma, 1/x, list(1, scale = 1), draw),\n",
    "  lambda = \\(x = NULL, draw = FALSE) get_dist(dgamma, rgamma, 1/x, list(1, scale = 1), draw),\n",
    "  sigma = \\(x = NULL, draw = FALSE)  get_dist(dgamma, rgamma, 1/x, list(1, scale = 1), draw)\n",
    ")\n",
    "\n",
    "n_theta <- length(priors)\n"
   ]
  },
  {
   "cell_type": "markdown",
   "metadata": {},
   "source": [
    "Next, we create a function to compute the log of the prior distribution for the model parameters.\n",
    "\n",
    "We use metaprogramming techinques to create a new function that is the (log of) the multiplication of all the priors.\n",
    "\n",
    "This function will be used later in the Metropolis-Hastings algorithm to evaluate the posterior distribution."
   ]
  },
  {
   "cell_type": "code",
   "execution_count": 5,
   "metadata": {
    "vscode": {
     "languageId": "r"
    }
   },
   "outputs": [],
   "source": [
    "get_prior <- function(priors, env = caller_env()) {\n",
    "  calls <- map(names(priors), ~ parse_expr(glue(\"priors${.x}(theta['{.x}'])\")))\n",
    "  \n",
    "  log_prior <- new_function(\n",
    "    args = pairlist2(theta = ),\n",
    "    body = reduce(calls, \\(c1, c2) expr((!!c1) * (!!c2))),\n",
    "    env = env\n",
    "  )\n",
    "}\n",
    "\n",
    "log_prior <- \\(x) log(get_prior(priors)(x))"
   ]
  },
  {
   "cell_type": "markdown",
   "metadata": {},
   "source": [
    "We define functions to compute the spot rate (`s`) and residuals (`u`) based on the model parameters. The spot rate function calculates the yield curve values, while the residual function computes the difference between observed and modeled yields."
   ]
  },
  {
   "cell_type": "code",
   "execution_count": 6,
   "metadata": {
    "vscode": {
     "languageId": "r"
    }
   },
   "outputs": [],
   "source": [
    "get_s <- function(tau, theta) {\n",
    "  theta[\"beta0\"] +\n",
    "    (theta[\"beta1\"] + theta[\"beta2\"]) * ((1 - exp(-tau / theta[\"lambda\"])) / (tau / theta[\"lambda\"])) +\n",
    "    theta[\"beta2\"] * (1 - exp(-tau / theta[\"lambda\"]))\n",
    "}\n",
    "\n",
    "get_u <- function(data, taus, theta) {\n",
    "  data_u <- matrix(NA, n_t, n_tau)\n",
    "\n",
    "  for (i in seq_len(n_tau)) {\n",
    "    data_u[, i] <- data[, i] - get_s(taus[i], theta)\n",
    "  }\n",
    "\n",
    "  data_u\n",
    "}"
   ]
  },
  {
   "cell_type": "markdown",
   "metadata": {},
   "source": [
    "We now define the log likelihood function, which evaluates the likelihood of the observed data given the model parameters."
   ]
  },
  {
   "cell_type": "code",
   "execution_count": 7,
   "metadata": {
    "vscode": {
     "languageId": "r"
    }
   },
   "outputs": [],
   "source": [
    "log_likelihood <- function(data, taus, theta) {\n",
    "  u <- get_u(data, taus, theta)\n",
    "  #sum(log(dnorm(u, 0, theta[\"sigma\"]^2)))\n",
    "  -0.5 * (n_t * n_tau) * log(2 * pi * theta[\"sigma\"]^2) - 0.5 * sum(u^2) / theta[\"sigma\"]^2\n",
    "}"
   ]
  },
  {
   "cell_type": "markdown",
   "metadata": {},
   "source": [
    "Finally, we implement the Metropolis-Hastings algorithm to sample from the posterior distribution of the model parameters. This iterative algorithm proposes new parameter values and accepts or rejects them based on their posterior probabilities.\n",
    "\n",
    "The initial guess is a random sample from the priors."
   ]
  },
  {
   "cell_type": "code",
   "execution_count": 8,
   "metadata": {
    "vscode": {
     "languageId": "r"
    }
   },
   "outputs": [],
   "source": [
    "n_s <- 3000\n",
    "\n",
    "theta_sample <- matrix(NA, n_s, n_theta)\n",
    "colnames(theta_sample) <- names(priors)\n",
    "\n",
    "theta_sample[1, ] <- map_dbl(priors, ~.x(draw = TRUE))\n",
    "post_new <- log_likelihood(data, taus, theta_sample[1,]) + log_prior(theta_sample[1,])\n",
    "\n",
    "\n",
    "for (s in seq(2, n_s, 1)) {\n",
    "  theta_sample[s,] <- map_dbl(priors, ~.x(draw = TRUE))\n",
    "\n",
    "  post_old <- post_new\n",
    "  post_new <- log_likelihood(data, taus, theta_sample[s,]) + log_prior(theta_sample[s,])\n",
    "\n",
    "  if (runif(1) < min(exp(post_new - post_old), 1)) {\n",
    "    theta_sample[s,] <- theta_sample[s,]\n",
    "  } else {\n",
    "    theta_sample[s,] <- theta_sample[s - 1,]\n",
    "  }\n",
    "}\n"
   ]
  },
  {
   "cell_type": "markdown",
   "metadata": {},
   "source": [
    "Now we can format the sample and remove the initial values."
   ]
  },
  {
   "cell_type": "code",
   "execution_count": 9,
   "metadata": {
    "vscode": {
     "languageId": "r"
    }
   },
   "outputs": [],
   "source": [
    "theta_sample <- as_tibble(theta_sample) %>%\n",
    "  mutate(Iter = 1:n_s, .before = 1)\n",
    "\n",
    "n_0 <- 500\n",
    "theta_sample <- theta_sample[(n_0+1):n_s,]"
   ]
  },
  {
   "cell_type": "markdown",
   "metadata": {},
   "source": [
    "Now, we can run diagnoses. Starting with plotting the series."
   ]
  },
  {
   "cell_type": "code",
   "execution_count": 10,
   "metadata": {
    "vscode": {
     "languageId": "r"
    }
   },
   "outputs": [
    {
     "data": {
      "image/png": "[encoded data removed]",
      "text/plain": [
       "plot without title"
      ]
     },
     "metadata": {
      "image/png": {
       "height": 420,
       "width": 420
      }
     },
     "output_type": "display_data"
    }
   ],
   "source": [
    "theme_set(theme_bw())\n",
    "\n",
    "ggplot(pivot_longer(theta_sample, -Iter), aes(x = Iter, y = value)) +\n",
    "  geom_line() +\n",
    "  facet_wrap(vars(name), scales = \"free_y\") +\n",
    "  labs(title = \"Trace plots of the MCMC samples\", y = \"Parameter value\", x = \"Iteration\")"
   ]
  },
  {
   "cell_type": "markdown",
   "metadata": {},
   "source": [
    "We can see a possible dependence, but the result looks good overall. Lets plot some of the possible joint traceplots, to see the joint path of the coefficients."
   ]
  },
  {
   "cell_type": "code",
   "execution_count": 11,
   "metadata": {
    "vscode": {
     "languageId": "r"
    }
   },
   "outputs": [
    {
     "data": {
      "image/png": "[encoded data removed]",
      "text/plain": [
       "plot without title"
      ]
     },
     "metadata": {
      "image/png": {
       "height": 420,
       "width": 420
      }
     },
     "output_type": "display_data"
    }
   ],
   "source": [
    "vars <- expand_grid(x1 = glue(\"beta{0:2}\"), x2 = glue(\"beta{0:2}\")) %>% filter(x1 != x2)\n",
    "\n",
    "graphs <- pmap(vars, function(x1, x2) {\n",
    "  ggplot(theta_sample, aes(x = !!sym(x1), y = !!sym(x2))) +\n",
    "    geom_path()\n",
    "})\n",
    "\n",
    "wrap_plots(graphs, nrow = 2) + plot_annotation(title = \"Joint path plots of the MCMC samples\")  "
   ]
  },
  {
   "cell_type": "markdown",
   "metadata": {},
   "source": [
    "To further investigate the dependence, we can plot the autocorrelation function (ACF) and partial autocorrelation function (PACF) of the samples. This will be done using the `ggvar_acf` function from my own package [varr](https://ricardo-semiao.github.io/varr/) :)"
   ]
  },
  {
   "cell_type": "code",
   "execution_count": 12,
   "metadata": {
    "vscode": {
     "languageId": "r"
    }
   },
   "outputs": [
    {
     "data": {
      "image/png": "[encoded data removed]",
      "text/plain": [
       "plot without title"
      ]
     },
     "metadata": {
      "image/png": {
       "height": 420,
       "width": 420
      }
     },
     "output_type": "display_data"
    },
    {
     "data": {
      "image/png": "[encoded data removed]",
      "text/plain": [
       "plot without title"
      ]
     },
     "metadata": {
      "image/png": {
       "height": 420,
       "width": 420
      }
     },
     "output_type": "display_data"
    }
   ],
   "source": [
    "varr::ggvar_acf(select(theta_sample, -Iter))\n",
    "varr::ggvar_acf(select(theta_sample, -Iter), type = \"partial\")"
   ]
  },
  {
   "cell_type": "markdown",
   "metadata": {},
   "source": [
    "For the effective sample size calculation, I will use package `coda`."
   ]
  },
  {
   "cell_type": "code",
   "execution_count": 13,
   "metadata": {
    "vscode": {
     "languageId": "r"
    }
   },
   "outputs": [
    {
     "data": {
      "text/html": [
       "<style>\n",
       ".dl-inline {width: auto; margin:0; padding: 0}\n",
       ".dl-inline>dt, .dl-inline>dd {float: none; width: auto; display: inline-block}\n",
       ".dl-inline>dt::after {content: \":\\0020\"; padding-right: .5ex}\n",
       ".dl-inline>dt:not(:first-of-type) {padding-left: .5ex}\n",
       "</style><dl class=dl-inline><dt>beta0</dt><dd>1320.15756087757</dd><dt>beta1</dt><dd>1174.36287524861</dd><dt>beta2</dt><dd>1269.96453685383</dd><dt>lambda</dt><dd>1008.67238542744</dd><dt>sigma</dt><dd>1367.44738511865</dd></dl>\n"
      ],
      "text/latex": [
       "\\begin{description*}\n",
       "\\item[beta0] 1320.15756087757\n",
       "\\item[beta1] 1174.36287524861\n",
       "\\item[beta2] 1269.96453685383\n",
       "\\item[lambda] 1008.67238542744\n",
       "\\item[sigma] 1367.44738511865\n",
       "\\end{description*}\n"
      ],
      "text/markdown": [
       "beta0\n",
       ":   1320.15756087757beta1\n",
       ":   1174.36287524861beta2\n",
       ":   1269.96453685383lambda\n",
       ":   1008.67238542744sigma\n",
       ":   1367.44738511865\n",
       "\n"
      ],
      "text/plain": [
       "   beta0    beta1    beta2   lambda    sigma \n",
       "1320.158 1174.363 1269.965 1008.672 1367.447 "
      ]
     },
     "metadata": {},
     "output_type": "display_data"
    }
   ],
   "source": [
    "mcmc_samples <- coda::as.mcmc(theta_sample %>% select(-Iter))\n",
    "coda::effectiveSize(mcmc_samples)"
   ]
  },
  {
   "cell_type": "markdown",
   "metadata": {},
   "source": [
    "We can see almost half of the samples are effective, which can not be a problem if we use a large enough sample size."
   ]
  },
  {
   "cell_type": "markdown",
   "metadata": {},
   "source": [
    "## Question 5\n",
    "\n",
    "> Construct a table with summary statistics for all parameters, including respective standard errors.\n"
   ]
  },
  {
   "cell_type": "markdown",
   "metadata": {},
   "source": [
    "We use the `sumtable` function to find relevant statistics."
   ]
  },
  {
   "cell_type": "code",
   "execution_count": 14,
   "metadata": {
    "vscode": {
     "languageId": "r"
    }
   },
   "outputs": [],
   "source": [
    "vtable::sumtable(as.data.frame(theta_sample))"
   ]
  },
  {
   "attachments": {
    "image.png": {
     "image/png": "[encoded data removed]"
    }
   },
   "cell_type": "markdown",
   "metadata": {},
   "source": [
    "![image.png](attachment:image.png)"
   ]
  },
  {
   "cell_type": "markdown",
   "metadata": {},
   "source": [
    "## Question 6\n",
    "\n",
    "> Predict weekly yield on maturities 9, 15, 18, 21 and 120 months. Obtain a point estimate and 95% posterior predictive intervals."
   ]
  },
  {
   "cell_type": "markdown",
   "metadata": {},
   "source": [
    "I didn't had time to run the code, but the idea is to get the predictions for all the sample, and then annotate the relevant quantiles."
   ]
  },
  {
   "cell_type": "code",
   "execution_count": 23,
   "metadata": {
    "vscode": {
     "languageId": "r"
    }
   },
   "outputs": [],
   "source": [
    "future::plan(future::multisession, workers = 7)\n",
    "\n",
    "forecast <- map_dfr(c(9, 15, 18, 21, 120), function(tau) {\n",
    "  spot_rates <- furrr:::future_map_dbl(split(theta_sample, 1:(n_s - n_0)), ~as.numeric(get_s(tau, .x)))\n",
    "  tibble(\n",
    "    Tau = tau,\n",
    "    SpotRate = median(spot_rates, na.rm = TRUE),\n",
    "    Lower = quantile(spot_rates, 0.05, na.rm = TRUE),\n",
    "    Upper = quantile(spot_rates, 0.95, na.rm = TRUE)\n",
    "  )\n",
    "})\n"
   ]
  },
  {
   "cell_type": "markdown",
   "metadata": {},
   "source": [
    "## Question 7\n",
    "\n",
    "> Compare your prediction with the actual weekly yield, present in the forecast sheet."
   ]
  },
  {
   "cell_type": "markdown",
   "metadata": {},
   "source": [
    "We can then get the prediction errors, comparing with the mean of each maturity sample. We can also check the proprotion of times the values fell within the 95% interval.\n",
    "\n",
    "We can see that the interval is not gathering 95% of the sample. Also, we see that longer maturities appear to be more accurate."
   ]
  },
  {
   "cell_type": "code",
   "execution_count": 26,
   "metadata": {
    "vscode": {
     "languageId": "r"
    }
   },
   "outputs": [
    {
     "data": {
      "text/html": [
       "<table class=\"dataframe\">\n",
       "<caption>A tibble: 5 × 7</caption>\n",
       "<thead>\n",
       "\t<tr><th scope=col>Tau</th><th scope=col>SpotRate</th><th scope=col>Lower</th><th scope=col>Upper</th><th scope=col>True</th><th scope=col>Error</th><th scope=col>InsideCIProp</th></tr>\n",
       "\t<tr><th scope=col>&lt;dbl&gt;</th><th scope=col>&lt;dbl&gt;</th><th scope=col>&lt;dbl&gt;</th><th scope=col>&lt;dbl&gt;</th><th scope=col>&lt;dbl&gt;</th><th scope=col>&lt;dbl&gt;</th><th scope=col>&lt;dbl&gt;</th></tr>\n",
       "</thead>\n",
       "<tbody>\n",
       "\t<tr><td>  9</td><td>1.505527</td><td>0.4663149</td><td>3.820823</td><td>0.8543326</td><td> 0.6511944</td><td>0.4012739</td></tr>\n",
       "\t<tr><td> 15</td><td>1.437747</td><td>0.4390148</td><td>3.722937</td><td>0.8898761</td><td> 0.5478708</td><td>0.4267516</td></tr>\n",
       "\t<tr><td> 18</td><td>1.419402</td><td>0.4229382</td><td>3.698514</td><td>0.9075438</td><td> 0.5118577</td><td>0.4458599</td></tr>\n",
       "\t<tr><td> 21</td><td>1.402685</td><td>0.4110387</td><td>3.671182</td><td>0.9251404</td><td> 0.4775448</td><td>0.4713376</td></tr>\n",
       "\t<tr><td>120</td><td>1.322425</td><td>0.3725742</td><td>3.576196</td><td>1.4572122</td><td>-0.1347868</td><td>1.0000000</td></tr>\n",
       "</tbody>\n",
       "</table>\n"
      ],
      "text/latex": [
       "A tibble: 5 × 7\n",
       "\\begin{tabular}{lllllll}\n",
       " Tau & SpotRate & Lower & Upper & True & Error & InsideCIProp\\\\\n",
       " <dbl> & <dbl> & <dbl> & <dbl> & <dbl> & <dbl> & <dbl>\\\\\n",
       "\\hline\n",
       "\t   9 & 1.505527 & 0.4663149 & 3.820823 & 0.8543326 &  0.6511944 & 0.4012739\\\\\n",
       "\t  15 & 1.437747 & 0.4390148 & 3.722937 & 0.8898761 &  0.5478708 & 0.4267516\\\\\n",
       "\t  18 & 1.419402 & 0.4229382 & 3.698514 & 0.9075438 &  0.5118577 & 0.4458599\\\\\n",
       "\t  21 & 1.402685 & 0.4110387 & 3.671182 & 0.9251404 &  0.4775448 & 0.4713376\\\\\n",
       "\t 120 & 1.322425 & 0.3725742 & 3.576196 & 1.4572122 & -0.1347868 & 1.0000000\\\\\n",
       "\\end{tabular}\n"
      ],
      "text/markdown": [
       "\n",
       "A tibble: 5 × 7\n",
       "\n",
       "| Tau &lt;dbl&gt; | SpotRate &lt;dbl&gt; | Lower &lt;dbl&gt; | Upper &lt;dbl&gt; | True &lt;dbl&gt; | Error &lt;dbl&gt; | InsideCIProp &lt;dbl&gt; |\n",
       "|---|---|---|---|---|---|---|\n",
       "|   9 | 1.505527 | 0.4663149 | 3.820823 | 0.8543326 |  0.6511944 | 0.4012739 |\n",
       "|  15 | 1.437747 | 0.4390148 | 3.722937 | 0.8898761 |  0.5478708 | 0.4267516 |\n",
       "|  18 | 1.419402 | 0.4229382 | 3.698514 | 0.9075438 |  0.5118577 | 0.4458599 |\n",
       "|  21 | 1.402685 | 0.4110387 | 3.671182 | 0.9251404 |  0.4775448 | 0.4713376 |\n",
       "| 120 | 1.322425 | 0.3725742 | 3.576196 | 1.4572122 | -0.1347868 | 1.0000000 |\n",
       "\n"
      ],
      "text/plain": [
       "             Tau SpotRate Lower     Upper    True      Error      InsideCIProp\n",
       "TREASURY0,75   9 1.505527 0.4663149 3.820823 0.8543326  0.6511944 0.4012739   \n",
       "TREASURY1,25  15 1.437747 0.4390148 3.722937 0.8898761  0.5478708 0.4267516   \n",
       "TREASURY1,5   18 1.419402 0.4229382 3.698514 0.9075438  0.5118577 0.4458599   \n",
       "TREASURY1,75  21 1.402685 0.4110387 3.671182 0.9251404  0.4775448 0.4713376   \n",
       "TREASURY10   120 1.322425 0.3725742 3.576196 1.4572122 -0.1347868 1.0000000   "
      ]
     },
     "metadata": {},
     "output_type": "display_data"
    }
   ],
   "source": [
    "data_forecast <- readxl::read_excel(\"Yields_Bloomberg.xlsx\", sheet = \"forecast\") %>%\n",
    "  select(-DATA)\n",
    "\n",
    "forecast %>%\n",
    "  mutate(\n",
    "    True = map_dbl(data_forecast, mean),\n",
    "    Error = SpotRate - True,\n",
    "    InsideCIProp = pmap_dbl(\n",
    "        list(data_forecast, Lower, Upper),\n",
    "        ~sum(..1 >= ..2 & ..1 <= ..3, na.rm = TRUE) / length(..1)\n",
    "      )\n",
    "  )"
   ]
  }
 ],
 "metadata": {
  "kernelspec": {
   "display_name": "R",
   "language": "R",
   "name": "ir"
  },
  "language_info": {
   "codemirror_mode": "r",
   "file_extension": ".r",
   "mimetype": "text/x-r-source",
   "name": "R",
   "pygments_lexer": "r",
   "version": "4.4.2"
  }
 },
 "nbformat": 4,
 "nbformat_minor": 2
}
