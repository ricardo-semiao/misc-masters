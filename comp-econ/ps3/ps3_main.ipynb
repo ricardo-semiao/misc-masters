{
 "cells": [
  {
   "cell_type": "markdown",
   "metadata": {},
   "source": [
    "---\n",
    "title: \"Computational Methods in Economics - Problem Set 3\"\n",
    "author: \"Ricardo Semião e Castro\"\n",
    "format: \n",
    "    html:\n",
    "        embed-resources: true\n",
    "---"
   ]
  },
  {
   "cell_type": "markdown",
   "metadata": {},
   "source": [
    "Instructions in [ps3_instructions.pdf](ps3/ps3_instrkctions.pdf). This project counts with a [Manifest.toml](Manifest.toml) and [Project.toml](Project.toml) files, generated via [config.jl](config.jl). These will not be included in the final submission. The HTML file is generated via Quarto.\n",
    "\n",
    "I use LLM models to speed up coding, but only via inline suggestions, not to create whole chunks of code. Additionally, I use them to answer questions about the Julia language, that I had no contact before this class."
   ]
  },
  {
   "cell_type": "code",
   "execution_count": null,
   "metadata": {},
   "outputs": [
    {
     "data": {
      "text/plain": [
       "TaskLocalRNG()"
      ]
     },
     "metadata": {},
     "output_type": "display_data"
    }
   ],
   "source": [
    "#| output: false\n",
    "\n",
    "using FastGaussQuadrature\n",
    "using Printf\n",
    "using Random, Statistics\n",
    "using DataStructures\n",
    "\n",
    "Random.seed!(101134385455)"
   ]
  },
  {
   "cell_type": "markdown",
   "metadata": {},
   "source": [
    "As many questions will ask for trying several times a approximation method, I will define a custom function for it, `approx_fun_n`.\n",
    "\n",
    "It recieves:\n",
    "\n",
    "- A function to approximate, `f`.\n",
    "- An algorithm (function) to approximate `f` with, `a`.\n",
    "- And `n`, some parameter of `a` that controls the precision of the approximation, often, a number of iterations or samples to be done.\n",
    "\n",
    "`approx_fun_n` assumes that `a` has the first argument `f` and second `n`. In order to enforce that, I will have it set as a custom type `Approximator`, whose call method requires that order."
   ]
  },
  {
   "cell_type": "code",
   "execution_count": null,
   "metadata": {},
   "outputs": [],
   "source": [
    "#| output: false\n",
    "\n",
    "struct Approximator\n",
    "    approx::Function\n",
    "end\n",
    "\n",
    "function (a::Approximator)(f::Function, n::Int64; args...)\n",
    "    return a.approx(f, n; args...)\n",
    "end"
   ]
  },
  {
   "cell_type": "code",
   "execution_count": null,
   "metadata": {},
   "outputs": [
    {
     "data": {
      "text/plain": [
       "approx_fun_n (generic function with 3 methods)"
      ]
     },
     "metadata": {},
     "output_type": "display_data"
    }
   ],
   "source": [
    "#| output: false\n",
    "\n",
    "function approx_fun_n(\n",
    "    f::Function, a::Approximator, ns::Tuple,\n",
    "    text::String = \"f(.)\", fmt::String = \"%+.2e\";\n",
    "    kwargs...\n",
    ")\n",
    "    output = OrderedDict{String, String}()\n",
    "\n",
    "    for n in ns\n",
    "        result = Printf.format(Printf.Format(fmt), a(f, n; kwargs...))\n",
    "        output[\"n = $n\"] = \"$text ≈ $result\"\n",
    "    end\n",
    "\n",
    "    return output\n",
    "end"
   ]
  },
  {
   "cell_type": "markdown",
   "metadata": {},
   "source": [
    "# Question 1.\n",
    "\n",
    "Let $X \\sim N(0, 1)$."
   ]
  },
  {
   "cell_type": "markdown",
   "metadata": {},
   "source": [
    "## Item a)\n",
    "\n",
    "We know that the Gauss-Hermite quadrature approximates integrals of the form:\n",
    "\n",
    "$$\n",
    "\\int^{\\infty}_{-\\infty}f(x) \\cdot e^{-x^2} ~dx\n",
    "$$\n",
    "\n",
    "Thus, we will write the integral that defines the average of a normal RV, then apply variable substitution to make it fit the Gauss-Hermite quadrature. Let $\\phi$ be the Gaussian PDF.\n",
    "\n",
    "$$\n",
    "E[X] = \\int^{\\infty}_{-\\infty}x \\cdot \\phi(x) ~dx = \\int^{\\infty}_{-\\infty}x \\cdot \\frac{1}{\\sqrt{2\\pi}} e^{-x^2/2} ~dx\n",
    "$$\n",
    "\n",
    "Let $y = x/\\sqrt{2}$, then $dy = dx/\\sqrt{2}$, and:\n",
    "\n",
    "$$\n",
    "E[X] = \\int^{\\infty}_{-\\infty}\\sqrt{2}y \\cdot \\frac{1}{\\sqrt{2\\pi}} e^{-(\\sqrt{2}y)^2/2} ~\\sqrt{2}dy =\n",
    "$$\n",
    "$$\n",
    "\\int^{\\infty}_{-\\infty}y \\cdot \\frac{1}{\\sqrt{\\pi}} e^{-y^2} ~\\sqrt{2}dy = \\frac{\\sqrt{2}}{\\sqrt{\\pi}}\\int^{\\infty}_{-\\infty}y \\cdot e^{-y^2} ~dy\n",
    "$$\n",
    "\n",
    "We can see the desired format, with $f(x) = x$. Thus, we have that:\n",
    "\n",
    "$$\n",
    "\\mathbb{E}[X] \\approx \\frac{\\sqrt{2}}{\\sqrt{\\pi}} \\sum_{i=1}^{n} w_i \\cdot x_i\n",
    "$$\n",
    "\n",
    "Then, we can create the optimal values for $x_i$ and $w_i$ for each $n$ via `gausshermite()`, and get our results."
   ]
  },
  {
   "cell_type": "code",
   "execution_count": null,
   "metadata": {},
   "outputs": [
    {
     "data": {
      "text/plain": [
       "Approximator(var\"#13#15\"())"
      ]
     },
     "metadata": {},
     "output_type": "display_data"
    }
   ],
   "source": [
    "#| output: false\n",
    "\n",
    "approx_gausshermite = Approximator(\n",
    "    function (f, n; c)\n",
    "        x, w = gausshermite(n)\n",
    "        return c * sum(f.(x) .* w)\n",
    "    end\n",
    ")"
   ]
  },
  {
   "cell_type": "markdown",
   "metadata": {},
   "source": [
    "Now, lets run the approximation for the requested `n` values:"
   ]
  },
  {
   "cell_type": "code",
   "execution_count": 5,
   "metadata": {},
   "outputs": [
    {
     "data": {
      "text/plain": [
       "OrderedDict{String, String} with 3 entries:\n",
       "  \"n = 3\"  => \"E[X] ≈ -8.42e-16\"\n",
       "  \"n = 5\"  => \"E[X] ≈ -6.64e-16\"\n",
       "  \"n = 10\" => \"E[X] ≈ -1.48e-17\""
      ]
     },
     "metadata": {},
     "output_type": "display_data"
    }
   ],
   "source": [
    "ns = (3, 5, 10)\n",
    "f = x::Float64 -> x\n",
    "\n",
    "approx_fun_n(f, approx_gausshermite, ns, \"E[X]\"; c = (sqrt(2)/sqrt(pi)))"
   ]
  },
  {
   "cell_type": "markdown",
   "metadata": {},
   "source": [
    "We can see that the results are indeed very close to $0$, as expected. The values get closer the bigger the $n$, also as expected."
   ]
  },
  {
   "cell_type": "markdown",
   "metadata": {},
   "source": [
    "## Item b)\n",
    "\n",
    "For the Monte Carlo integration, we will sample $X$ from its distribution and calculate the average."
   ]
  },
  {
   "cell_type": "code",
   "execution_count": null,
   "metadata": {},
   "outputs": [
    {
     "data": {
      "text/plain": [
       "Approximator(var\"#18#19\"())"
      ]
     },
     "metadata": {},
     "output_type": "display_data"
    }
   ],
   "source": [
    "#| output: false\n",
    "\n",
    "approx_montecarlo = Approximator(\n",
    "    function (f, n)\n",
    "        return mean(f(n))\n",
    "    end\n",
    ")"
   ]
  },
  {
   "cell_type": "code",
   "execution_count": 7,
   "metadata": {},
   "outputs": [
    {
     "data": {
      "text/plain": [
       "OrderedDict{String, String} with 3 entries:\n",
       "  \"n = 100\"     => \"E[X] ≈ +3.41e-02\"\n",
       "  \"n = 10000\"   => \"E[X] ≈ -6.08e-03\"\n",
       "  \"n = 1000000\" => \"E[X] ≈ +6.70e-05\""
      ]
     },
     "metadata": {},
     "output_type": "display_data"
    }
   ],
   "source": [
    "ns = 10 .^ (2, 4, 6)\n",
    "f = randn\n",
    "\n",
    "approx_fun_n(f, approx_montecarlo, ns, \"E[X]\")"
   ]
  },
  {
   "cell_type": "markdown",
   "metadata": {},
   "source": [
    "## Item c)\n",
    "\n",
    "I'll start by breaking the expectation into the combination of the conditionals:\n",
    "\n",
    "$$\n",
    "E[\\max(1, X)] = 1 \\cdot P(X < 1) + E[X | X > 1] \\cdot P(X > 1)\n",
    "$$\n",
    "$$\n",
    "E[\\max(1, X)] = \\Phi(1) + \\frac{\\phi(1)}{1 - \\Phi(1)} (1 - \\Phi(1))\n",
    "$$\n",
    "$$\n",
    "E[\\max(1, X)] = \\Phi(1) + \\phi(1)\\\\\n",
    "$$\n",
    "\n",
    "To understand the passage of $E[X | X > 1]$, note that $X | X > a$ is a truncated variable. A truncated distribution of $f_X$ is one $f_{X^*}$ where:\n",
    "\n",
    "$$\n",
    "f_{X^*}(x) \\coloneqq f_X(x \\mid X \\geq a) =\\begin{cases}\n",
    "0, & x < a \\\\\n",
    "\\frac{f_X(x)}{1 - F_X(a)}, & x \\geq a\n",
    "\\end{cases}\n",
    "$$\n",
    "$$\n",
    "E[X \\mid X \\geq a] \\coloneqq \\frac{\\int_{a}^\\infty x f_X(x) ~dx}{1 - F_X(a)}\n",
    "$$\n",
    "\n",
    "And the top integral can be solved via substitution ($u = y^2/2$) as $\\phi(a)$.\n",
    "\n",
    "Using Gaussian tables, we get:\n",
    "\n",
    "- $\\Phi(1) \\approx 0.8413$\n",
    "- $\\phi(1) \\approx 0.2419$\n",
    "\n",
    "Then:\n",
    "\n",
    "$$\n",
    "E[\\max(1, X)] \\approx 0.8413 + 0.2419 = 1.0832\n",
    "$$"
   ]
  },
  {
   "cell_type": "markdown",
   "metadata": {},
   "source": [
    "## Item d)\n",
    "\n",
    "The integral we want to approximate is:\n",
    "\n",
    "$$\n",
    "E[\\max(1, X)] = \\int^\\infty_{-\\infty} \\max(1, X) \\cdot \\frac{1}{\\sqrt{2\\pi}} e^{-x^2/2} ~dx\n",
    "$$\n",
    "\n",
    "Lets apply the same substitution as before:\n",
    "\n",
    "$$\n",
    "E[\\max(1, X)] = \\int^\\infty_{-\\infty} \\max(1, x) \\cdot \\frac{1}{\\sqrt{2\\pi}} e^{-x^2/2} ~dx\n",
    "$$\n",
    "$$\n",
    "E[\\max(1, X)] = \\int^{\\infty}_{-\\infty}\\max(1, \\sqrt{2}y) \\cdot \\frac{1}{\\sqrt{2\\pi}} e^{-(\\sqrt{2}y)^2/2} ~\\sqrt{2}dy\n",
    "$$\n",
    "$$\n",
    "E[\\max(1, X)] = \\frac{1}{\\sqrt{\\pi}} \\int^{\\infty}_{-\\infty}\\max(1,\\sqrt{2}y) \\cdot e^{-y^2} ~dy\n",
    "$$\n",
    "\n",
    "We can see the desired format, with $f(x) = \\max(1,\\sqrt{2}x)$. Thus, we have that:\n",
    "\n",
    "$$\n",
    "\\mathbb{E}[X] \\approx \\frac{1}{\\sqrt{\\pi}} \\sum_{i=1}^{n} w_i \\cdot \\max(1,\\sqrt{2}x_i)\n",
    "$$\n",
    "\n",
    "Then, we can create the optimal values for $x_i$ and $w_i$ for each $n$ via `gausshermite()`, and get our results."
   ]
  },
  {
   "cell_type": "code",
   "execution_count": 8,
   "metadata": {},
   "outputs": [
    {
     "data": {
      "text/plain": [
       "OrderedDict{String, String} with 3 entries:\n",
       "  \"n = 3\"  => \"E[X] ≈ 1.1220\"\n",
       "  \"n = 5\"  => \"E[X] ≈ 1.0999\"\n",
       "  \"n = 10\" => \"E[X] ≈ 1.0935\""
      ]
     },
     "metadata": {},
     "output_type": "display_data"
    }
   ],
   "source": [
    "ns = (3, 5, 10)\n",
    "f = x::Float64 -> max(sqrt(2)*x, 1)\n",
    "\n",
    "approx_fun_n(f, approx_gausshermite, ns, \"E[X]\", \"%.4f\"; c = (1/sqrt(pi)))"
   ]
  },
  {
   "cell_type": "markdown",
   "metadata": {},
   "source": [
    "For the Monte Carlo integration, we will sample $X$ from its distribution and calculate the average of $\\max(1,X)$."
   ]
  },
  {
   "cell_type": "code",
   "execution_count": 9,
   "metadata": {},
   "outputs": [
    {
     "data": {
      "text/plain": [
       "OrderedDict{String, String} with 3 entries:\n",
       "  \"n = 100\"     => \"E[X] ≈ 1.1389\"\n",
       "  \"n = 10000\"   => \"E[X] ≈ 1.0829\"\n",
       "  \"n = 1000000\" => \"E[X] ≈ 1.0833\""
      ]
     },
     "metadata": {},
     "output_type": "display_data"
    }
   ],
   "source": [
    "ns = 10 .^ (2, 4, 6)\n",
    "f = n::Int64 -> max.(randn(n), 1)\n",
    "\n",
    "approx_fun_n(f, approx_montecarlo, ns, \"E[X]\", \"%.4f\")"
   ]
  },
  {
   "cell_type": "markdown",
   "metadata": {},
   "source": [
    "Both results are as expected, similar to the analytical one, and approaching it as $n$ increases."
   ]
  },
  {
   "cell_type": "markdown",
   "metadata": {},
   "source": [
    "# Question 2.\n",
    "\n",
    "## Item a)\n",
    "\n",
    "Lets start by writing $u$'s distribution, a independent joint normal distribution:\n",
    "\n",
    "$$\n",
    "E[\\max(X,Y)] = \\int_{-\\infty}^\\infty \\int_{-\\infty}^\\infty \\max(x,y) \\cdot \\frac{1}{2\\pi} \\exp\\left( -\\frac{x^2 + y^2}{2} \\right) ~dx ~dy\n",
    "$$\n",
    "\n",
    "Similarlly to before, we will aplly the substitutions:\n",
    "\n",
    "$$\n",
    "x = \\sqrt{2}k, ~~ y = \\sqrt{2}v\n",
    "$$\n",
    "$$\n",
    "dx = \\sqrt{2}dk, ~~ dy = \\sqrt{2}dv \n",
    "$$\n",
    "\n",
    "Then:\n",
    "\n",
    "$$\n",
    "\\exp\\left(-\\frac{x^2 + y^2}{2} \\right) = \\exp\\left( -\\frac{2k^2 + 2v^2}{2} \\right) = \\exp(-k^2 - v^2)\n",
    "$$\n",
    "$$\n",
    "E[\\max(X,Y)] = \\frac{1}{\\pi} \\int_{-\\infty}^\\infty \\int_{-\\infty}^\\infty \\max(\\sqrt{2}k, \\sqrt{2}v) \\cdot e^{-k^2} e^{-v^2} ~dk ~dv\n",
    "$$\n",
    "\n",
    "Which is the desired format, with $f(k,v) = \\max(\\sqrt{2}k, \\sqrt{2}v)$. Thus, we have that:\n",
    "\n",
    "$$\n",
    "E[\\max(X,Y)] \\approx \\frac{1}{\\pi} \\sum_{i=1}^n\\sum_{j=1}^n w^x_i w^y_j \\cdot \\max(\\sqrt{2}x_i, \\sqrt{2}y_i)\n",
    "$$"
   ]
  },
  {
   "cell_type": "code",
   "execution_count": 10,
   "metadata": {},
   "outputs": [
    {
     "data": {
      "text/plain": [
       "\"n = 10 => E[X] ≈ 0.5412942646726828\""
      ]
     },
     "metadata": {},
     "output_type": "display_data"
    }
   ],
   "source": [
    "n = 10\n",
    "q2a_quad_result = 0.0\n",
    "\n",
    "f = (x::Float64, y::Float64) -> max(sqrt(2)*x, sqrt(2)*y)\n",
    "x, w = gausshermite(n)\n",
    "\n",
    "for i in 1:n\n",
    "    for j in 1:n\n",
    "        q2a_quad_result += w[i] * w[j] * f(x[i], x[j])\n",
    "    end\n",
    "end\n",
    "\n",
    "q2a_quad_result = q2a_quad_result / pi\n",
    "\n",
    "\"n = $n => E[X] ≈ $q2a_quad_result\""
   ]
  },
  {
   "cell_type": "markdown",
   "metadata": {},
   "source": [
    "## Item b)\n",
    "\n",
    "For the Monte Carlo integration, we will independently sample $X$ and $Y$ from their distribution, and calculate the average of $\\max(X,Y)$."
   ]
  },
  {
   "cell_type": "code",
   "execution_count": 11,
   "metadata": {},
   "outputs": [
    {
     "data": {
      "text/plain": [
       "\"n = 1000000 => E[X] ≈ 0.5648290470049241\""
      ]
     },
     "metadata": {},
     "output_type": "display_data"
    }
   ],
   "source": [
    "n = 10^6\n",
    "\n",
    "q2b_quad_result = mean(max.(randn(n), randn(n)))\n",
    "\n",
    "\"n = $n => E[X] ≈ $q2b_quad_result\""
   ]
  },
  {
   "cell_type": "markdown",
   "metadata": {},
   "source": [
    "# Question 3.\n",
    "\n",
    "First, lets write code for the trapezoid rule:\n",
    "\n",
    "$$\n",
    "\\int_{a}^{b}\\,f(x)d x \\approx \\sum_{i=1}^{n}\\,\\frac{h}{2}\\,(f(x_{i})+f(x_{i+1}))\n",
    "$$\n",
    "\n",
    "Lets use $n$ (user-defined) equally spaced points for the summation."
   ]
  },
  {
   "cell_type": "code",
   "execution_count": null,
   "metadata": {},
   "outputs": [
    {
     "data": {
      "text/plain": [
       "Approximator(var\"#26#28\"())"
      ]
     },
     "metadata": {},
     "output_type": "display_data"
    }
   ],
   "source": [
    "#| output: false\n",
    "\n",
    "approx_newton_trapezoid = Approximator(\n",
    "    function (f::Function, n::Int64; lims::Tuple{Float64, Float64})\n",
    "        a, b = lims\n",
    "        h = (b - a) / n\n",
    "        x = a:h:b\n",
    "        return (h/2) * (f(a) + f(b) + 2*sum(f.(x[2:end-1])))\n",
    "    end\n",
    ")"
   ]
  },
  {
   "cell_type": "markdown",
   "metadata": {},
   "source": [
    "## Item a)"
   ]
  },
  {
   "cell_type": "code",
   "execution_count": 13,
   "metadata": {},
   "outputs": [
    {
     "data": {
      "text/plain": [
       "OrderedDict{String, String} with 5 entries:\n",
       "  \"n = 3\"  => \"E[X] ≈ 0.5000\"\n",
       "  \"n = 5\"  => \"E[X] ≈ 0.5000\"\n",
       "  \"n = 10\" => \"E[X] ≈ 0.5000\"\n",
       "  \"n = 15\" => \"E[X] ≈ 0.5000\"\n",
       "  \"n = 20\" => \"E[X] ≈ 0.5000\""
      ]
     },
     "metadata": {},
     "output_type": "display_data"
    }
   ],
   "source": [
    "ns = (3, 5, 10, 15, 20)\n",
    "f = x::Float64 -> x\n",
    "\n",
    "approx_fun_n(f, approx_newton_trapezoid, ns, \"E[X]\", \"%.4f\"; lims = (0.0, 1.0))"
   ]
  },
  {
   "cell_type": "markdown",
   "metadata": {},
   "source": [
    "The trapezoid rule uses a degree 1 polinomial to approximate the function. The function $f(x) = x$ is a degree 1 polinomial, so it makes sense that we get a perfect approximation. The value $0.5$ can be thought of as the area of the triangle that relates to the integral."
   ]
  },
  {
   "cell_type": "markdown",
   "metadata": {},
   "source": [
    "## Item b)"
   ]
  },
  {
   "cell_type": "code",
   "execution_count": 14,
   "metadata": {},
   "outputs": [
    {
     "data": {
      "text/plain": [
       "OrderedDict{String, String} with 5 entries:\n",
       "  \"n = 3\"  => \"E[X] ≈ 0.3140\"\n",
       "  \"n = 5\"  => \"E[X] ≈ 0.3058\"\n",
       "  \"n = 10\" => \"E[X] ≈ 0.3023\"\n",
       "  \"n = 15\" => \"E[X] ≈ 0.3017\"\n",
       "  \"n = 20\" => \"E[X] ≈ 0.3015\""
      ]
     },
     "metadata": {},
     "output_type": "display_data"
    }
   ],
   "source": [
    "ns = (3, 5, 10, 15, 20)\n",
    "f = x::Float64 -> x * sin(x)\n",
    "\n",
    "approx_fun_n(f, approx_newton_trapezoid, ns, \"E[X]\", \"%.4f\"; lims = (0.0, 1.0))"
   ]
  },
  {
   "cell_type": "markdown",
   "metadata": {},
   "source": [
    "We don't have a perfect match anymore, but it is converging, since:\n",
    "\n",
    "$$\n",
    "\\int^1_0 x \\sin(x) ~dx = -x\\cos(x) + \\sin(x)\\big|^1_0 \\approx 0.301168\n",
    "$$"
   ]
  },
  {
   "cell_type": "markdown",
   "metadata": {},
   "source": [
    "## Item c)"
   ]
  },
  {
   "cell_type": "code",
   "execution_count": 15,
   "metadata": {},
   "outputs": [
    {
     "data": {
      "text/plain": [
       "OrderedDict{String, String} with 5 entries:\n",
       "  \"n = 3\"  => \"E[X] ≈ 0.7294\"\n",
       "  \"n = 5\"  => \"E[X] ≈ 0.7593\"\n",
       "  \"n = 10\" => \"E[X] ≈ 0.7761\"\n",
       "  \"n = 15\" => \"E[X] ≈ 0.7803\"\n",
       "  \"n = 20\" => \"E[X] ≈ 0.7821\""
      ]
     },
     "metadata": {},
     "output_type": "display_data"
    }
   ],
   "source": [
    "ns = (3, 5, 10, 15, 20)\n",
    "f = x::Float64 -> sqrt(1 - x^2)\n",
    "\n",
    "approx_fun_n(f, approx_newton_trapezoid, ns, \"E[X]\", \"%.4f\"; lims = (0.0, 1.0))"
   ]
  },
  {
   "cell_type": "markdown",
   "metadata": {},
   "source": [
    "Again, we don't have a perfect match, but it is converging, since we have one fourth of the area of a unit circle:\n",
    "\n",
    "$$\n",
    "\\int^1_0 \\sqrt{1 - x^2} ~dx = \\frac{1}{4} \\pi 1^2 \\approx 0.78539\n",
    "$$"
   ]
  },
  {
   "cell_type": "markdown",
   "metadata": {},
   "source": [
    "# Question 4.\n",
    "\n",
    "First, note the true derivatives:\n",
    "\n",
    "$$\n",
    "f(x) = x^2 \\implies f'(x) = 2x \\implies f'(5) = 10\n",
    "$$\n",
    "$$\n",
    "f(x) = \\log(x) \\implies f'(x) = \\frac{1}{x} \\implies f'(10) = 0.1\n",
    "$$\n",
    "$$\n",
    "f(x) = x\\sin(x) \\implies f'(x) = \\sin(x) + x\\cos(x) \\implies f'(1) \\approx 1.38177\\\\\n",
    "$$"
   ]
  },
  {
   "cell_type": "markdown",
   "metadata": {},
   "source": [
    "Now, lets define the difference functions:"
   ]
  },
  {
   "cell_type": "code",
   "execution_count": null,
   "metadata": {},
   "outputs": [
    {
     "data": {
      "text/plain": [
       "(0.001, 0.005, 0.01, 0.05)"
      ]
     },
     "metadata": {},
     "output_type": "display_data"
    }
   ],
   "source": [
    "#| output: false\n",
    "\n",
    "approx_diff_list = (\n",
    "    p2 = (f, x, h) -> (f(x + h) - f(x - h)) / (2*h),\n",
    "    p4 = (f, x, h) -> (-f(x + 2*h) + 8*f(x + h) - 8*f(x - h) + f(x - 2*h)) / (12*h)\n",
    ")\n",
    "\n",
    "hs = (0.001, 0.005, 0.01, 0.05)"
   ]
  },
  {
   "cell_type": "markdown",
   "metadata": {},
   "source": [
    "And a custom function to apply them:"
   ]
  },
  {
   "cell_type": "code",
   "execution_count": null,
   "metadata": {},
   "outputs": [
    {
     "data": {
      "text/plain": [
       "approx_fun_diff (generic function with 2 methods)"
      ]
     },
     "metadata": {},
     "output_type": "display_data"
    }
   ],
   "source": [
    "#| output: false\n",
    "\n",
    "function approx_fun_diff(f::Function, p::Float64, hs::Tuple, diff_list::NamedTuple, comparison::Float64, fmt::String = \"%+.3e\")\n",
    "    output = OrderedDict{String, String}()\n",
    "\n",
    "    for (key, diff) in pairs(diff_list)\n",
    "        for h in hs\n",
    "            result = Printf.format(Printf.Format(fmt), diff(f, p, h) - comparison)\n",
    "            output[\"points = $key, h = $h\"] = \"f'($p) ≈ $result\"\n",
    "        end\n",
    "    end\n",
    "\n",
    "    return output\n",
    "end"
   ]
  },
  {
   "cell_type": "markdown",
   "metadata": {},
   "source": [
    "## Item a)"
   ]
  },
  {
   "cell_type": "code",
   "execution_count": 18,
   "metadata": {},
   "outputs": [
    {
     "data": {
      "text/plain": [
       "OrderedDict{String, String} with 8 entries:\n",
       "  \"points = p2, h = 0.001\" => \"f'(5.0) ≈ +3.340e-12\"\n",
       "  \"points = p2, h = 0.005\" => \"f'(5.0) ≈ -2.132e-13\"\n",
       "  \"points = p2, h = 0.01\"  => \"f'(5.0) ≈ -2.132e-13\"\n",
       "  \"points = p2, h = 0.05\"  => \"f'(5.0) ≈ -3.553e-14\"\n",
       "  \"points = p4, h = 0.001\" => \"f'(5.0) ≈ +4.524e-12\"\n",
       "  \"points = p4, h = 0.005\" => \"f'(5.0) ≈ -2.132e-13\"\n",
       "  \"points = p4, h = 0.01\"  => \"f'(5.0) ≈ -2.718e-13\"\n",
       "  \"points = p4, h = 0.05\"  => \"f'(5.0) ≈ -2.487e-14\""
      ]
     },
     "metadata": {},
     "output_type": "display_data"
    }
   ],
   "source": [
    "f = x::Float64 -> x^2\n",
    "p = 5.0\n",
    "\n",
    "results_q4_x2 = approx_fun_diff(f, p, hs, approx_diff_list, 10.0)"
   ]
  },
  {
   "cell_type": "markdown",
   "metadata": {},
   "source": [
    "All the approximations are near perfect, with the smallest being with 4 points and $h = 0.5$."
   ]
  },
  {
   "cell_type": "markdown",
   "metadata": {},
   "source": [
    "## Item b)"
   ]
  },
  {
   "cell_type": "code",
   "execution_count": 19,
   "metadata": {},
   "outputs": [
    {
     "data": {
      "text/plain": [
       "OrderedDict{String, String} with 8 entries:\n",
       "  \"points = p2, h = 0.001\" => \"f'(10.0) ≈ +3.333e-10\"\n",
       "  \"points = p2, h = 0.005\" => \"f'(10.0) ≈ +8.333e-09\"\n",
       "  \"points = p2, h = 0.01\"  => \"f'(10.0) ≈ +3.333e-08\"\n",
       "  \"points = p2, h = 0.05\"  => \"f'(10.0) ≈ +8.333e-07\"\n",
       "  \"points = p4, h = 0.001\" => \"f'(10.0) ≈ -1.591e-13\"\n",
       "  \"points = p4, h = 0.005\" => \"f'(10.0) ≈ -4.062e-14\"\n",
       "  \"points = p4, h = 0.01\"  => \"f'(10.0) ≈ -7.393e-14\"\n",
       "  \"points = p4, h = 0.05\"  => \"f'(10.0) ≈ -5.000e-11\""
      ]
     },
     "metadata": {},
     "output_type": "display_data"
    }
   ],
   "source": [
    "f = x::Float64 -> log(x)\n",
    "p = 10.0\n",
    "\n",
    "results_q4_x2 = approx_fun_diff(f, p, hs, approx_diff_list, 0.1)"
   ]
  },
  {
   "cell_type": "markdown",
   "metadata": {},
   "source": [
    "The approximations are worse than before, but still good. The smallest error is with 4 points and $h = 0.005$."
   ]
  },
  {
   "cell_type": "markdown",
   "metadata": {},
   "source": [
    "## Item c)"
   ]
  },
  {
   "cell_type": "code",
   "execution_count": 20,
   "metadata": {},
   "outputs": [
    {
     "data": {
      "text/plain": [
       "OrderedDict{String, String} with 8 entries:\n",
       "  \"points = p2, h = 0.001\" => \"f'(1.0) ≈ +2.780e-06\"\n",
       "  \"points = p2, h = 0.005\" => \"f'(1.0) ≈ -9.479e-06\"\n",
       "  \"points = p2, h = 0.01\"  => \"f'(1.0) ≈ -4.779e-05\"\n",
       "  \"points = p2, h = 0.05\"  => \"f'(1.0) ≈ -1.273e-03\"\n",
       "  \"points = p4, h = 0.001\" => \"f'(1.0) ≈ +3.291e-06\"\n",
       "  \"points = p4, h = 0.005\" => \"f'(1.0) ≈ +3.291e-06\"\n",
       "  \"points = p4, h = 0.01\"  => \"f'(1.0) ≈ +3.289e-06\"\n",
       "  \"points = p4, h = 0.05\"  => \"f'(1.0) ≈ +2.302e-06\""
      ]
     },
     "metadata": {},
     "output_type": "display_data"
    }
   ],
   "source": [
    "f = x::Float64 -> x * sin(x)\n",
    "p = 1.0\n",
    "\n",
    "results_q4_x2 = approx_fun_diff(f, p, hs, approx_diff_list, 1.38177)"
   ]
  },
  {
   "cell_type": "markdown",
   "metadata": {},
   "source": [
    "The results are again worse, given this highly non-linear function. The smallest error is with 4 points and $h = 0.005$."
   ]
  },
  {
   "cell_type": "markdown",
   "metadata": {},
   "source": [
    "## Item d)\n",
    "\n",
    "Already answered before."
   ]
  }
 ],
 "metadata": {
  "kernelspec": {
   "display_name": "Julia 1.10.5",
   "language": "julia",
   "name": "julia-1.10"
  },
  "language_info": {
   "file_extension": ".jl",
   "mimetype": "application/julia",
   "name": "julia",
   "version": "1.10.5"
  }
 },
 "nbformat": 4,
 "nbformat_minor": 2
}
