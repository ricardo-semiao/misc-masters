{
 "cells": [
  {
   "cell_type": "markdown",
   "metadata": {},
   "source": [
    "---\n",
    "title: \"Monetary Policy Models - PS2\"\n",
    "author: \"Ricardo Semião\"\n",
    "date: \"2024-11-08\"\n",
    "format: \n",
    "  pdf:\n",
    "    documentclass: article\n",
    "    #keep-tex: true\n",
    "    include-in-header:\n",
    "      text: |\n",
    "        \\usepackage[a4paper, margin=2.5cm]{geometry}\n",
    "---"
   ]
  },
  {
   "cell_type": "markdown",
   "metadata": {},
   "source": [
    "# Setup\n",
    "\n",
    "This document was made using Jupyter Notebook to present the results of a Dynare/Octave code. Dynare files must be compiled, such that Dynare code can be run in independent cells. Still, I present the components of each `.mod` file here in code cells, and run the full code with the `oct2py`'s `%%octave` cell magic.\n",
    "\n",
    "For starters, lets load the cell magic and other relevant modules."
   ]
  },
  {
   "cell_type": "code",
   "execution_count": null,
   "metadata": {},
   "outputs": [
    {
     "ename": "",
     "evalue": "",
     "output_type": "error",
     "traceback": [
      "\u001b[1;31mFailed to start the Kernel. \n",
      "\u001b[1;31mUnable to start Kernel 'Python 3.12.0' due to a timeout waiting for the ports to get used. \n",
      "\u001b[1;31mView Jupyter <a href='command:jupyter.viewOutput'>log</a> for further details."
     ]
    }
   ],
   "source": [
    "from io import StringIO\n",
    "from shutil import move\n",
    "\n",
    "import pandas as pd\n",
    "\n",
    "import re\n",
    "\n",
    "%load_ext oct2py.ipython"
   ]
  },
  {
   "cell_type": "markdown",
   "metadata": {},
   "source": [
    "Now, we can set some initial configurations, like suppress warnings, and set the Dynare path."
   ]
  },
  {
   "cell_type": "code",
   "execution_count": null,
   "metadata": {},
   "outputs": [],
   "source": [
    "%%octave\n",
    "\n",
    "warning('off', 'Octave:shadowed-function');\n",
    "graphics_toolkit('gnuplot');\n",
    "\n",
    "addpath C:\\dynare\\6.2\\matlab"
   ]
  },
  {
   "cell_type": "markdown",
   "metadata": {},
   "source": [
    "Lastly, this document is rendered with quarto. Using powershell, one runs:"
   ]
  },
  {
   "cell_type": "code",
   "execution_count": null,
   "metadata": {
    "vscode": {
     "languageId": "powershell"
    }
   },
   "outputs": [],
   "source": [
    "#| output: false\n",
    "\n",
    "!powershell quarto render ps1_main.ipynb --to pdf"
   ]
  },
  {
   "cell_type": "markdown",
   "metadata": {},
   "source": [
    "# Question 1"
   ]
  },
  {
   "cell_type": "markdown",
   "metadata": {},
   "source": [
    "## Item 1."
   ]
  },
  {
   "cell_type": "markdown",
   "metadata": {},
   "source": [
    "### Code\n",
    "\n",
    "First, we declare the endogenous variables, exogenous variables, and parameters of the model."
   ]
  },
  {
   "cell_type": "markdown",
   "metadata": {},
   "source": [
    "```octave\n",
    "var y c k i h r z;\n",
    "varexo e;\n",
    "parameters beta psi delta theta rho;\n",
    "```"
   ]
  },
  {
   "cell_type": "markdown",
   "metadata": {},
   "source": [
    "Then, we can set the parameters' values, which can be calibrated from macroeconomic data. Lets start with `theta = 0.36`."
   ]
  },
  {
   "cell_type": "markdown",
   "metadata": {},
   "source": [
    "```octave\n",
    "theta = 0.36; %capital share\n",
    "beta  = 0.99; %discount factor\n",
    "delta = 0.025; %depreciation rate\n",
    "psi   = 1.72; %leasure utility parameter\n",
    "rho   = 0.95; %AR(1) productivity parameter\n",
    "sigma = (0.000010299)^(1/2); %SD of productivity shock\n",
    "```"
   ]
  },
  {
   "cell_type": "markdown",
   "metadata": {},
   "source": [
    "Then, we can define the model equations. In order:\n",
    "\n",
    "1. Intertemporal consumption choice.\n",
    "2. Income-leisure choice.\n",
    "3. Budget constraint.\n",
    "4. Production function.\n",
    "5. Capital accumulation path.\n",
    "6. Interest rate equation.\n",
    "7. Stochastic productivity equation."
   ]
  },
  {
   "cell_type": "markdown",
   "metadata": {},
   "source": [
    "```octave\n",
    "model;\n",
    "    (1/c) = beta*(1/c(+1))*(1+theta*(k^(theta-1))*(exp(z(+1))*h(+1))^(1-theta)-delta); %(1)\n",
    "    psi*c/(1-h) = (1-theta)*(k(-1)^theta)*(exp(z)^(1-theta))*(h^(-theta)); %(2)\n",
    "    c+i = y;                                                               %(3)\n",
    "    y = (k(-1)^theta)*(exp(z)*h)^(1-theta);                                %(4)\n",
    "    i = k-(1-delta)*k(-1);                                                 %(5)\n",
    "    r = theta*y/k;                                                         %(6)\n",
    "    z = rho*z(-1)+e;                                                       %(7)\n",
    "end;\n",
    "```"
   ]
  },
  {
   "cell_type": "markdown",
   "metadata": {},
   "source": [
    "Then, we can define the initial position of the economy variables. Usually, a good start is the steady state of the model."
   ]
  },
  {
   "cell_type": "markdown",
   "metadata": {},
   "source": [
    "```octave\n",
    "initval;\n",
    "    y = 1.2353;\n",
    "    k = 12.6695;\n",
    "    c = 0.9186;\n",
    "    h = 0.33;\n",
    "    i = 0.316738;\n",
    "    z = 0;\n",
    "    e = 0;\n",
    "    r = 0.0351;\n",
    "end;\n",
    "```"
   ]
  },
  {
   "cell_type": "markdown",
   "metadata": {},
   "source": [
    "Finally, we define the shocks. In this case, we only have the productivity one."
   ]
  },
  {
   "cell_type": "markdown",
   "metadata": {},
   "source": [
    "```octave\n",
    "shocks;\n",
    "    var e = sigma^2;\n",
    "end;\n",
    "```"
   ]
  },
  {
   "cell_type": "markdown",
   "metadata": {},
   "source": [
    "Now, we can calculate the steady state, and simulate IRFs. We save them as `.eps`, which can be presented below. We want the graphics as `.eps`, and only to be saved on disk, not displayed."
   ]
  },
  {
   "cell_type": "markdown",
   "metadata": {},
   "source": [
    "```octave\n",
    "steady;\n",
    "check;\n",
    "\n",
    "stoch_simul(hp_filter = 1600, order = 1, nodisplay, graph_format = PDF) y c i;\n",
    "```"
   ]
  },
  {
   "cell_type": "markdown",
   "metadata": {},
   "source": [
    "### Results\n",
    "\n",
    "Now, we can run the file that contains all the code above. Then, move the pictures to the correct location."
   ]
  },
  {
   "cell_type": "code",
   "execution_count": null,
   "metadata": {},
   "outputs": [],
   "source": [
    "%%octave\n",
    "\n",
    "cd dynare_scripts/rbc/\n",
    "dynare rbc"
   ]
  },
  {
   "cell_type": "code",
   "execution_count": null,
   "metadata": {},
   "outputs": [
    {
     "data": {
      "text/plain": [
       "'figures/rbc_IRF_e_033.eps'"
      ]
     },
     "execution_count": 79,
     "metadata": {},
     "output_type": "execute_result"
    }
   ],
   "source": [
    "#| output: false\n",
    "\n",
    "move(\n",
    "    'dynare_scripts/rbc/rbc/graphs/rbc_IRF_e.eps',\n",
    "    'figures/rbc_IRF_e_033.eps'\n",
    ")"
   ]
  },
  {
   "cell_type": "markdown",
   "metadata": {},
   "source": [
    "All the outputs that Dynare generates are important to understand if the model is making sense. But here, we are more interested in the IRFs. I'll present them only in the Item 3. section."
   ]
  },
  {
   "cell_type": "markdown",
   "metadata": {},
   "source": [
    "## Item 2.\n",
    "\n",
    "We could create a completely new `.mod` file, and change only the `theta` value. But, I'd rather do a more programmatic approach. I will use the `re` module to find the `theta = 0.36` line in the existing file, and replace it with `theta = 0.5`."
   ]
  },
  {
   "cell_type": "code",
   "execution_count": null,
   "metadata": {},
   "outputs": [],
   "source": [
    "rbc_path = 'dynare_scripts/rbc/rbc.mod'\n",
    "\n",
    "with open(rbc_path, 'r', encoding='utf-8') as file:\n",
    "    rbc_lines = file.readlines()\n",
    "\n",
    "rbc_lines = [\n",
    "    re.sub(r'theta   = [0-9.]+', 'theta   = 0.50', x)\n",
    "    for x in mod_lines\n",
    "]\n",
    "\n",
    "with open(rbc_path, 'w', encoding='utf-8') as file_out:\n",
    "    file_out.writelines(rbc_lines)"
   ]
  },
  {
   "cell_type": "markdown",
   "metadata": {},
   "source": [
    "Now we can run the file again."
   ]
  },
  {
   "cell_type": "code",
   "execution_count": null,
   "metadata": {},
   "outputs": [],
   "source": [
    "%%octave\n",
    "\n",
    "dynare rbc"
   ]
  },
  {
   "cell_type": "code",
   "execution_count": null,
   "metadata": {},
   "outputs": [],
   "source": [
    "move(\n",
    "    'dynare_scripts/rbc/rbc/graphs/rbc_IRF_e.eps',\n",
    "    'figures/rbc_IRF_e_050.eps'\n",
    ")"
   ]
  },
  {
   "cell_type": "markdown",
   "metadata": {},
   "source": [
    "Now, we can compare the IRFs of the two models in the Item 3. section."
   ]
  },
  {
   "cell_type": "markdown",
   "metadata": {},
   "source": [
    "## Item 3."
   ]
  },
  {
   "cell_type": "markdown",
   "metadata": {},
   "source": [
    "The IRFs are presented below.\n",
    "\n",
    "```{=latex}\n",
    "\\begin{figure}[H]\n",
    "  \\centering\n",
    "\n",
    "  \\begin{minipage}{0.45\\textwidth}\n",
    "    \\centering\n",
    "    \\includegraphics{figures/rbc_IRF_e_033.eps}\n",
    "  \\end{minipage}\n",
    "  \\hfill\n",
    "  \\begin{minipage}{0.45\\textwidth}\n",
    "    \\centering\n",
    "    \\includegraphics{figures/rbc_IRF_e_050.eps}\n",
    "  \\end{minipage}\n",
    "  \n",
    "\\end{figure}\n",
    "```\n",
    "\n",
    "We can see that all the shocks' effects are larger in the $\\theta = 0.5$ case (see the y-axis values). We know that $\\theta$ is associated with the capital share in the production function. A higher $\\theta$ yields a more balanced share, which means that the economy is more sensitive to productivity shocks. For example, with higher productivity, the marginal productivity of capital increases, which implies that the optimal level of investment is higher."
   ]
  },
  {
   "cell_type": "markdown",
   "metadata": {},
   "source": [
    "# Question 2"
   ]
  },
  {
   "cell_type": "markdown",
   "metadata": {},
   "source": [
    "## Item 1.\n",
    "\n",
    "No, since the second model remove tendencies in productivity, such that the main endogenous variables $x_t$ are stationary. On the other hand, the original model makes no such transformation, and the $X_t$ variables are always growing (in the long run) given the technology shock."
   ]
  },
  {
   "cell_type": "markdown",
   "metadata": {},
   "source": [
    "## Item 2.\n",
    "\n",
    "Now, the transformation is, in some sense, \"more constant\". The variables are written in terms of the steady state, then applied to a monotonic transformation (log).\n",
    "\n",
    "Thus, the variables are different, and will have different trajectories (in the level), which can be seen as the null steady-state by construction on the model 3 case. But, again, it is a \"more constant\" transformation, the dynamics are still the same."
   ]
  },
  {
   "cell_type": "markdown",
   "metadata": {},
   "source": [
    "## Item 3.\n",
    "\n",
    "First, lets adjust the variables by the productivity:\n",
    "\n",
    "$$\n",
    "1 = \\beta E \\left[(\\frac{c_{t+1}}{c_t})^{-\\tau} \\frac{A_t}{A_{t+1}} \\frac{R_t}{\\pi_{t+1}}\\right]\n",
    "$$\n",
    "\n",
    "We need to deal with the term $\\frac{A_t}{A_{t+1}}$. Lets use equation (8):\n",
    "\n",
    "$$\n",
    "\\ln A_t = \\ln \\gamma + \\ln A_{t-1} + \\ln z_t\n",
    "$$\n",
    "\n",
    "$$\n",
    "e^{\\ln A_t} = e^(\\gamma \\ln A_{t-1} \\ln z_t)\n",
    "$$\n",
    "\n",
    "$$\n",
    "A_{t+1} = \\gamma A_t z_{t+1}\n",
    "$$\n",
    "\n",
    "$$\n",
    "\\frac{A_t}{A_{t+1}} = \\frac{1}{\\gamma z_{t+1}}\n",
    "$$\n",
    "\n",
    "Then, we get equation (12):\n",
    "\n",
    "$$\n",
    "1 = \\beta E \\left[(\\frac{c_{t+1}}{c_t})^{-\\tau} \\frac{1}{\\gamma z_{t+1}} \\frac{R_t}{\\pi_{t+1}}\\right]\n",
    "$$"
   ]
  },
  {
   "cell_type": "markdown",
   "metadata": {},
   "source": [
    "## Item 4."
   ]
  },
  {
   "cell_type": "markdown",
   "metadata": {},
   "source": [
    "### Code\n",
    "\n",
    "Let's first define the model equations. In order:\n",
    "\n",
    "1. Equation $(12)$: Modified Euler condition\n",
    "2. Equation $(13)$: Calvo equation for inflation\n",
    "3. Equation $(14)$: Resource constraint\n",
    "4. Equation $(15)$: Taylor rule for interest rate\n",
    "5. Equation $(16)$: Natural interest rate\n",
    "6. Equation $(17)$: Stochastic process for productivity\n",
    "7. Equation $(18)$: Stochastic process for public spending\n",
    "8. Equation $(19)$: Adjusted natural output"
   ]
  },
  {
   "cell_type": "markdown",
   "metadata": {},
   "source": [
    "```octave\n",
    "model;\n",
    "    1 = beta * ( (c(+1)/c)^(-tau) ) * (1 / (gamma * exp(z(+1)))) * (R / pi(+1));      %(1)\n",
    "    1 = phi * (pi - pi_star) * (1 - (1 / (2 * nu)) * pi + (pi_star / (2 * nu)))\n",
    "      - phi * beta * ( (c(+1)/c)^(-tau) ) * (y(+1) / y) * (pi(+1) - pi_star) * pi(+1)\n",
    "      + (1 / nu) * (1 - c^tau);                                                       %(2)\n",
    "    y = c + ((g - 1) / g) * y + (phi / 2) * (pi - pi_star)^2 * y;                     %(3)\n",
    "    R = R_star^(1 - rho_R) * R(-1)^rho_R * exp(eR);                                   %(4)\n",
    "    R_star = r * pi_star * (pi / pi_star)^psi_1 * (y / y_star)^psi_2;                 %(5)\n",
    "    z = rho_z * z(-1) + ez;                                                           %(6)\n",
    "     g = (1 - rho_g) * g_bar + rho_g * g(-1) + eg;                                    %(7)\n",
    "    y_star = g * c;                                                                   %(8)\n",
    "end;\n",
    "```"
   ]
  },
  {
   "cell_type": "markdown",
   "metadata": {},
   "source": [
    "And then, the steady state model:"
   ]
  },
  {
   "cell_type": "markdown",
   "metadata": {},
   "source": [
    "```octave\n",
    "steady_state_model;\n",
    "    c       = (1 - nu)^(1 / tau);\n",
    "    y_star  = g_star * c;\n",
    "    y       = y_star;\n",
    "    pi      = pi_star;\n",
    "    R       = r * pi_star;\n",
    "    R_star  = R;\n",
    "    g       = g_star;\n",
    "    z       = 0;\n",
    "end;\n",
    "```"
   ]
  },
  {
   "cell_type": "markdown",
   "metadata": {},
   "source": [
    "### Results\n",
    "\n",
    "Lets run the file, and move the results to the correct folder."
   ]
  },
  {
   "cell_type": "code",
   "execution_count": null,
   "metadata": {},
   "outputs": [],
   "source": [
    "%%octave\n",
    "\n",
    "cd ../as1/\n",
    "dynare as1"
   ]
  },
  {
   "cell_type": "code",
   "execution_count": null,
   "metadata": {},
   "outputs": [],
   "source": [
    "for e in ['eg', 'eR', 'ez']:\n",
    "    move(\n",
    "        f'dynare_scripts/as1/as1/graphs/as1_IRF_{e}.eps',\n",
    "        f'figures/as1_IRF_{e}.eps'\n",
    "    )"
   ]
  },
  {
   "cell_type": "markdown",
   "metadata": {},
   "source": [
    "The IRFs are presented below.\n",
    "\n",
    "```{=latex}\n",
    "\\begin{figure}[H]\n",
    "  \\centering\n",
    "  \\includegraphics[width=0.6\\textwidth]{figures/as1_IRF_eg.eps}\n",
    "\\end{figure}\n",
    "\n",
    "\\begin{figure}[H]\n",
    "  \\centering\n",
    "  \\includegraphics[width=0.6\\textwidth]{figures/as1_IRF_eR.eps}\n",
    "\\end{figure}\n",
    "\n",
    "\\begin{figure}[H]\n",
    "  \\centering\n",
    "  \\includegraphics[width=0.6\\textwidth]{figures/as1_IRF_ez.eps}\n",
    "\\end{figure}\n",
    "```"
   ]
  },
  {
   "cell_type": "markdown",
   "metadata": {},
   "source": [
    "## Item 5.\n",
    "\n",
    "By definition, the steady state $\\pi^*$ is the solution to $\\pi_{t+1} = \\pi_t ~\\forall t$, and when there is no shocks present, that is, from (17), $z = 1$.\n",
    "\n",
    "Moving forward, transforming the endogenous variables on equation (12) in terms of the steady state, we find:\n",
    "\n",
    "$$\n",
    "1 = \\beta \\left[1^{-\\tau}\\frac{1}{\\gamma}\\frac{R}{\\pi^*}\\right]\n",
    "$$\n",
    "\n",
    "$$\n",
    "1 = \\frac{1}{\\gamma}\\frac{\\beta R}{\\pi^*}\n",
    "$$\n",
    "\n",
    "$$\n",
    "R = \\frac{\\pi^*\\gamma}{\\beta}\n",
    "$$\n",
    "\n",
    "We can further simplify this equation using the relation from $\\gamma$ and $\\beta$ from (21), and we get the equation (22):\n",
    "\n",
    "$$\n",
    "R = \\frac{\\pi^*\\gamma}{\\frac{r}{\\pi^*}} = r\\pi^*\n",
    "$$"
   ]
  },
  {
   "cell_type": "markdown",
   "metadata": {},
   "source": [
    "## Item 6.\n",
    "\n",
    "We can transform $\\hat x_t = \\ln(x_t / x)$ the variables endogenous in equation (12):\n",
    "\n",
    "$$\n",
    "1 = \\beta E \\left[(\\frac{c_{t+1}}{c_t})^{-\\tau} \\frac{1}{\\gamma z_{t+1}} \\frac{R_t}{\\pi_{t+1}}\\right]\n",
    "$$\n",
    "\n",
    "Lets also use the transformation $R = (\\gamma\\pi^*/\\beta)$\n",
    "\n",
    "$$\n",
    "1 = E \\left[e^{r \\hat e_{t+1} - \\tau \\hat c_t - \\hat z_t + \\hat R_t - \\pi_{t+1}}\\right]\n",
    "$$"
   ]
  },
  {
   "cell_type": "markdown",
   "metadata": {},
   "source": [
    "## Item 7.\n",
    "\n",
    "First, lets run the file, and move the results to the correct folder."
   ]
  },
  {
   "cell_type": "code",
   "execution_count": null,
   "metadata": {},
   "outputs": [],
   "source": [
    "%%octave\n",
    "\n",
    "cd ../as2/\n",
    "dynare as2"
   ]
  },
  {
   "cell_type": "code",
   "execution_count": null,
   "metadata": {},
   "outputs": [],
   "source": [
    "for e in ['eg', 'eR', 'ez']:\n",
    "    os.rename(\n",
    "        f'dynare_scripts/as2/as2/graphs/as1_IRF_{e}.eps',\n",
    "        f'figures/as2_IRF_{e}.eps'\n",
    "    )"
   ]
  },
  {
   "cell_type": "markdown",
   "metadata": {},
   "source": [
    "Now, lets get the averages from the `.log` files. Below there is a function that does it by finding a match of `'THEORETICAL MOMENTS'` in the file, and parsing it as a `pandas.DataFrame`."
   ]
  },
  {
   "cell_type": "code",
   "execution_count": null,
   "metadata": {},
   "outputs": [],
   "source": [
    "def read_log_moments(path, n_vars):\n",
    "    with open(path, 'r', encoding='utf-8') as file:\n",
    "        lines = file.readlines()\n",
    "\n",
    "    table_index = -1\n",
    "    while not re.search(r'THEORETICAL MOMENTS', lines[table_index]):\n",
    "        table_index += 1\n",
    "\n",
    "    table_index += 2\n",
    "    table = ''.join(lines[(table_index):(table_index + n_vars)])\n",
    "\n",
    "    df = pd.read_csv(\n",
    "        StringIO(table),\n",
    "        sep = r'\\s+',\n",
    "        header = None,\n",
    "        names = ['Variable', 'Mean', 'SE', None],\n",
    "        usecols = ['Variable', 'Mean', 'SE']\n",
    "    )\n",
    "\n",
    "    return df"
   ]
  },
  {
   "cell_type": "markdown",
   "metadata": {},
   "source": [
    "Now, we can apply the function to each file, and get the result as a merged dataframe."
   ]
  },
  {
   "cell_type": "code",
   "execution_count": 82,
   "metadata": {},
   "outputs": [
    {
     "data": {
      "text/html": [
       "<div>\n",
       "<style scoped>\n",
       "    .dataframe tbody tr th:only-of-type {\n",
       "        vertical-align: middle;\n",
       "    }\n",
       "\n",
       "    .dataframe tbody tr th {\n",
       "        vertical-align: top;\n",
       "    }\n",
       "\n",
       "    .dataframe thead th {\n",
       "        text-align: right;\n",
       "    }\n",
       "</style>\n",
       "<table border=\"1\" class=\"dataframe\">\n",
       "  <thead>\n",
       "    <tr style=\"text-align: right;\">\n",
       "      <th></th>\n",
       "      <th>Variable</th>\n",
       "      <th>Mean (as1)</th>\n",
       "      <th>SE (as1)</th>\n",
       "      <th>Mean (as2)</th>\n",
       "      <th>SE (as2)</th>\n",
       "    </tr>\n",
       "  </thead>\n",
       "  <tbody>\n",
       "    <tr>\n",
       "      <th>0</th>\n",
       "      <td>c</td>\n",
       "      <td>0.9487</td>\n",
       "      <td>0.0031</td>\n",
       "      <td>0.0</td>\n",
       "      <td>0.0029</td>\n",
       "    </tr>\n",
       "    <tr>\n",
       "      <th>1</th>\n",
       "      <td>y</td>\n",
       "      <td>1.1161</td>\n",
       "      <td>0.0136</td>\n",
       "      <td>0.0</td>\n",
       "      <td>0.0141</td>\n",
       "    </tr>\n",
       "    <tr>\n",
       "      <th>2</th>\n",
       "      <td>pi</td>\n",
       "      <td>1.0080</td>\n",
       "      <td>0.0026</td>\n",
       "      <td>0.0</td>\n",
       "      <td>0.0022</td>\n",
       "    </tr>\n",
       "    <tr>\n",
       "      <th>3</th>\n",
       "      <td>R</td>\n",
       "      <td>1.0105</td>\n",
       "      <td>0.0031</td>\n",
       "      <td>0.0</td>\n",
       "      <td>0.0030</td>\n",
       "    </tr>\n",
       "    <tr>\n",
       "      <th>4</th>\n",
       "      <td>z</td>\n",
       "      <td>0.0000</td>\n",
       "      <td>0.0045</td>\n",
       "      <td>0.0</td>\n",
       "      <td>0.0045</td>\n",
       "    </tr>\n",
       "    <tr>\n",
       "      <th>5</th>\n",
       "      <td>g</td>\n",
       "      <td>1.1765</td>\n",
       "      <td>0.0138</td>\n",
       "      <td>0.0</td>\n",
       "      <td>0.0138</td>\n",
       "    </tr>\n",
       "  </tbody>\n",
       "</table>\n",
       "</div>"
      ],
      "text/plain": [
       "  Variable  Mean (as1)  SE (as1)  Mean (as2)  SE (as2)\n",
       "0        c      0.9487    0.0031         0.0    0.0029\n",
       "1        y      1.1161    0.0136         0.0    0.0141\n",
       "2       pi      1.0080    0.0026         0.0    0.0022\n",
       "3        R      1.0105    0.0031         0.0    0.0030\n",
       "4        z      0.0000    0.0045         0.0    0.0045\n",
       "5        g      1.1765    0.0138         0.0    0.0138"
      ]
     },
     "execution_count": 82,
     "metadata": {},
     "output_type": "execute_result"
    }
   ],
   "source": [
    "n_vars = 6\n",
    "\n",
    "moments = (\n",
    "    read_log_moments(path, n_vars)\n",
    "    for path in ['dynare_scripts/as1/as1.log', 'dynare_scripts/as2/as2.log']\n",
    ")\n",
    "\n",
    "pd.merge(*moments, on = 'Variable', suffixes = (' (as1)', ' (as2)'))"
   ]
  },
  {
   "cell_type": "markdown",
   "metadata": {},
   "source": [
    "As expected, all the means in `as2` are zero, by construction of the transformation based on the relation to the steady state. There shouldn't be deviations, specially given the linear approximation. But, importantly, as said before, the dynamics are the same, such that the SEs are still the same."
   ]
  }
 ],
 "metadata": {
  "kernelspec": {
   "display_name": "Python 3",
   "language": "python",
   "name": "python3"
  },
  "language_info": {
   "codemirror_mode": {
    "name": "ipython",
    "version": 3
   },
   "file_extension": ".py",
   "mimetype": "text/x-python",
   "name": "python",
   "nbconvert_exporter": "python",
   "pygments_lexer": "ipython3",
   "version": "3.12.0"
  }
 },
 "nbformat": 4,
 "nbformat_minor": 4
}
