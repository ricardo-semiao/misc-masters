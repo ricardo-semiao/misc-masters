{
 "cells": [
  {
   "cell_type": "markdown",
   "metadata": {},
   "source": [
    "---\n",
    "title: \"Monetary Policy Models - PS2\"\n",
    "author: \"Ricardo Semião\"\n",
    "date: \"2024-11-08\"\n",
    "format: \n",
    "  pdf:\n",
    "    documentclass: article\n",
    "    #keep-tex: true\n",
    "    include-in-header:\n",
    "      text: |\n",
    "        \\usepackage[a4paper, margin=2.5cm]{geometry}\n",
    "        \\usepackage{caption}\n",
    "---"
   ]
  },
  {
   "cell_type": "markdown",
   "metadata": {},
   "source": [
    "# Setup\n",
    "\n",
    "This document was made using Jupyter Notebook to present the results of a Dynare/Octave code. Dynare files must be compiled, such that Dynare code can be run in independent cells. Still, I present the components of each `.mod` file here in code cells, and run the full code with the `oct2py`'s `%%octave` cell magic.\n",
    "\n",
    "For starters, lets load the cell magic and other relevant modules."
   ]
  },
  {
   "cell_type": "code",
   "execution_count": 1,
   "metadata": {},
   "outputs": [],
   "source": [
    "from io import StringIO\n",
    "from shutil import move\n",
    "\n",
    "import pandas as pd\n",
    "\n",
    "import re\n",
    "\n",
    "%load_ext oct2py.ipython"
   ]
  },
  {
   "cell_type": "markdown",
   "metadata": {},
   "source": [
    "Now, we can set some initial configurations, like suppress warnings, and set the Dynare path."
   ]
  },
  {
   "cell_type": "code",
   "execution_count": null,
   "metadata": {},
   "outputs": [],
   "source": [
    "%%octave\n",
    "\n",
    "warning('off', 'Octave:shadowed-function');\n",
    "graphics_toolkit('gnuplot');\n",
    "\n",
    "addpath C:\\dynare\\6.2\\matlab"
   ]
  },
  {
   "cell_type": "markdown",
   "metadata": {},
   "source": [
    "Lastly, this document is rendered with quarto. Using powershell, one runs:"
   ]
  },
  {
   "cell_type": "code",
   "execution_count": null,
   "metadata": {
    "vscode": {
     "languageId": "powershell"
    }
   },
   "outputs": [],
   "source": [
    "#| output: false\n",
    "\n",
    "!powershell quarto render ps2_main.ipynb --to pdf"
   ]
  },
  {
   "cell_type": "markdown",
   "metadata": {},
   "source": [
    "# Question 1"
   ]
  },
  {
   "cell_type": "markdown",
   "metadata": {},
   "source": [
    "## Item 1."
   ]
  },
  {
   "cell_type": "markdown",
   "metadata": {},
   "source": [
    "First, we define new $\\rho$ parameters, and update the model:"
   ]
  },
  {
   "cell_type": "markdown",
   "metadata": {},
   "source": [
    "```octave\n",
    "parameters rho1 rho2 se;\n",
    "\n",
    "rho1 = 0.95;\n",
    "rho2 = -0.5;\n",
    "```\n",
    "\n",
    "```octave\n",
    "model;\n",
    "x = rho1*x(-1)+rho2*x(-2)+e;\n",
    "end;\n",
    "```"
   ]
  },
  {
   "cell_type": "markdown",
   "metadata": {},
   "source": [
    "Now, we can run the file that contains all the code above. Then, move the pictures to the correct location."
   ]
  },
  {
   "cell_type": "code",
   "execution_count": null,
   "metadata": {},
   "outputs": [],
   "source": [
    "%%octave\n",
    "\n",
    "cd dynare_scripts/ar2/\n",
    "dynare ar2"
   ]
  },
  {
   "cell_type": "code",
   "execution_count": null,
   "metadata": {},
   "outputs": [],
   "source": [
    "#| output: false\n",
    "\n",
    "move(\n",
    "    'dynare_scripts/ar2/ar2/graphs/ar2_IRF_e.eps',\n",
    "    'figures/ar2_IRF_e_095.eps'\n",
    ")"
   ]
  },
  {
   "cell_type": "markdown",
   "metadata": {},
   "source": [
    "All the outputs that Dynare generates are important to understand if the model is making sense. But here, we are more interested in the IRFs. I'll present them only in the Item 3. section."
   ]
  },
  {
   "cell_type": "markdown",
   "metadata": {},
   "source": [
    "## Item 2.\n",
    "\n",
    "One can use matlab loops:\n",
    "\n",
    "```octave\n",
    "rhos=[0.9, 0.7, 0.35];\n",
    "irfs = nan(1,T,3);\n",
    "\n",
    "dynare ar2.mod noclearall;\n",
    "\n",
    "for i=1:length(rhos)\n",
    "    set_param_value('rho',rhos(i));\n",
    "    [info, oo_, options_, M_] = stoch_simul(M_, options_, oo_, var_list_);\n",
    "    irfs(1,:,i) = oo_.irfs.x_e';\n",
    "end\n",
    "```\n",
    "\n",
    "Or the same approach I used in PS1, using REGEX to change the `.mod` file contents. I will use the `re` module to find the `rho1 = ...` line in the existing file, replace it, run it and save the figure."
   ]
  },
  {
   "cell_type": "code",
   "execution_count": null,
   "metadata": {},
   "outputs": [],
   "source": [
    "mod_path = 'dynare_scripts/ar2/ar2.mod'\n",
    "\n",
    "for rho1 in [0.9, 0.7, 0.35]:\n",
    "    with open(mod_path, 'r', encoding='utf-8') as file:\n",
    "        mod_lines = file.readlines()\n",
    "\n",
    "    mod_lines = [\n",
    "        re.sub(r'rho1 = [0-9.]+;', f'rho1 = {rho1};', x)\n",
    "        for x in mod_lines\n",
    "    ]\n",
    "\n",
    "    with open(mod_path, 'w', encoding='utf-8') as file_out:\n",
    "        file_out.writelines(mod_lines)\n",
    "\n",
    "    %octave dynare ar2\n",
    "\n",
    "    move(\n",
    "        'dynare_scripts/ar2/ar2/graphs/ar2_IRF_e.eps',\n",
    "        f'figures/ar2_IRF_e_{rho1}.eps'\n",
    "    )"
   ]
  },
  {
   "cell_type": "markdown",
   "metadata": {},
   "source": [
    "Again, the IRFs will be presented in the next section."
   ]
  },
  {
   "cell_type": "markdown",
   "metadata": {},
   "source": [
    "## Item 3."
   ]
  },
  {
   "cell_type": "markdown",
   "metadata": {},
   "source": [
    "Now, lets run the original file, _ar1.mod_, and save its IRF."
   ]
  },
  {
   "cell_type": "markdown",
   "metadata": {},
   "source": [
    "And now we can plot the results:\n",
    "\n",
    "```{=latex}\n",
    "\\begin{figure}[H]\n",
    "  \\centering\n",
    "  \\includegraphics[width = 0.45\\textwidth]{figures/ar1_IRF_e.eps}\n",
    "  \\caption*{$AR(1), ~~ \\rho = 0.95$}\n",
    "\\end{figure}\n",
    "\n",
    "\\begin{figure}[H]\n",
    "  \\centering\n",
    "\n",
    "  \\begin{minipage}{0.45\\textwidth}\n",
    "    \\centering\n",
    "    \\includegraphics{figures/ar1_IRF_e_095.eps}\n",
    "    \\caption*{$AR(2), ~~ \\rho = 0.95$}\n",
    "  \\end{minipage}\n",
    "  \\hfill\n",
    "  \\begin{minipage}{0.45\\textwidth}\n",
    "    \\centering\n",
    "    \\includegraphics{figures/ar1_IRF_e_090.eps}\n",
    "    \\caption*{$AR(2), ~~ \\rho = 0.90$}\n",
    "  \\end{minipage}\n",
    "\n",
    "  \\begin{minipage}{0.45\\textwidth}\n",
    "    \\centering\n",
    "    \\includegraphics{figures/ar1_IRF_e_070.eps}\n",
    "    \\caption*{$AR(2), ~~ \\rho = 0.70$}\n",
    "  \\end{minipage}\n",
    "  \\hfill\n",
    "  \\begin{minipage}{0.45\\textwidth}\n",
    "    \\centering\n",
    "    \\includegraphics{figures/ar1_IRF_e_035.eps}\n",
    "    \\caption*{$AR(2), ~~ \\rho = 0.35$}\n",
    "  \\end{minipage}\n",
    "  \n",
    "\\end{figure}\n",
    "```\n",
    "\n",
    "We can see that the oscillation in the shock response is smaller for bigger values of $\\rho$. This makes sense, since we're giving a higher weight to the past values in the law of motion of the shock, yielding a more stabilized path.\n",
    "\n",
    "Additionally, we can see that, without the negative $\\rho_2$, effectively, with $\\rho_2 = 0$, there is no oscillation, as expected. The response converges monotonically to zero."
   ]
  },
  {
   "cell_type": "markdown",
   "metadata": {},
   "source": [
    "# Question 2"
   ]
  },
  {
   "cell_type": "markdown",
   "metadata": {},
   "source": [
    "I'll answer both items together."
   ]
  },
  {
   "cell_type": "markdown",
   "metadata": {},
   "source": [
    "## Original\n",
    "\n",
    "The loop below run the model changing the orders to 1, 2, and 3, with the regex `r'stoch_simul(order = [1-3],'`."
   ]
  },
  {
   "cell_type": "code",
   "execution_count": null,
   "metadata": {},
   "outputs": [],
   "source": [
    "mod_path = 'dynare_scripts/jermann98/jermann98.mod'\n",
    "\n",
    "with open(mod_path, 'r', encoding='utf-8') as file:\n",
    "    mod_lines = file.readlines()\n",
    "\n",
    "for order in [1, 2, 3]:\n",
    "    mod_lines = [\n",
    "        re.sub(r'stoch_simul(order = [1-3],', f'stoch_simul(order = {order},', x)\n",
    "        for x in mod_lines\n",
    "    ]\n",
    "\n",
    "    with open(mod_path, 'w', encoding='utf-8') as file_out:\n",
    "        file_out.writelines(mod_lines)\n",
    "\n",
    "    %octave dynare jermann98\n",
    "\n",
    "    move(\n",
    "        'dynare_scripts/jermann98/jermann98/graphs/jermann98_IRF_ez.eps',\n",
    "        f'figures/jermann98_IRF_ez_o{order}.eps'\n",
    "    )"
   ]
  },
  {
   "cell_type": "markdown",
   "metadata": {},
   "source": [
    "## Altered\n",
    "\n",
    "Lets change the parameters and run the two orders again. I choose to change $\\alpha: 0.819 \\to 0.85$ and $\\xi: 1/4.3 \\to 1/4.5$. Both these changes should reduce the risk premia response to the shock, as (i) the past consumption has higher dependence on the past and (ii) the investment gets more costly to adjust, both implies in slower adjusts on the model overall."
   ]
  },
  {
   "cell_type": "code",
   "execution_count": null,
   "metadata": {},
   "outputs": [],
   "source": [
    "with open(mod_path, 'r', encoding='utf-8') as file:\n",
    "    mod_lines = file.readlines()\n",
    "\n",
    "mod_lines = [\n",
    "    re.sub(r'chihab\\s*= [0-9./];,', 'chihab = 0.85;',\n",
    "        re.sub(r'xi\\s*= [0-9./];,', 'xi = 1/4.5;',\n",
    "            x\n",
    "        )\n",
    "    )\n",
    "    for x in mod_lines\n",
    "]"
   ]
  },
  {
   "cell_type": "markdown",
   "metadata": {},
   "source": [
    "Now we can run the same loop as before, with new picture names:"
   ]
  },
  {
   "cell_type": "code",
   "execution_count": null,
   "metadata": {},
   "outputs": [],
   "source": [
    "for order in [1, 2, 3]:\n",
    "    mod_lines = [\n",
    "        re.sub(r'stoch_simul(order = [1-3],', f'stoch_simul(order = {order},', x)\n",
    "        for x in mod_lines\n",
    "    ]\n",
    "\n",
    "    with open(mod_path, 'w', encoding='utf-8') as file_out:\n",
    "        file_out.writelines(mod_lines)\n",
    "\n",
    "    %octave dynare jermann98\n",
    "\n",
    "    move(\n",
    "        'dynare_scripts/jermann98/jermann98/graphs/jermann98_IRF_ez.eps',\n",
    "        f'figures/jermann98_IRF_ez_o{order}_alt.eps'\n",
    "    )"
   ]
  },
  {
   "cell_type": "markdown",
   "metadata": {},
   "source": [
    "And now we can plot the results:\n",
    "\n",
    "```{=latex}\n",
    "\\begin{figure}[H]\n",
    "  \\centering\n",
    "\n",
    "  \\begin{minipage}{0.45\\textwidth}\n",
    "    \\centering\n",
    "    \\includegraphics{figures/jermann98_IRF_ez_o1.eps}\n",
    "    \\caption*{order = 1, original model}\n",
    "  \\end{minipage}\n",
    "  \\hfill\n",
    "  \\begin{minipage}{0.45\\textwidth}\n",
    "    \\centering\n",
    "    \\includegraphics{figures/jermann98_IRF_ez_o1_alt.eps}\n",
    "    \\caption*{order = 1, altered model}\n",
    "  \\end{minipage}\n",
    "\\end{figure}\n",
    "\n",
    "\\begin{figure}[H]\n",
    "  \\begin{minipage}{0.45\\textwidth}\n",
    "    \\centering\n",
    "    \\includegraphics{figures/jermann98_IRF_ez_o2.eps}\n",
    "    \\caption*{order = 2, original model}\n",
    "  \\end{minipage}\n",
    "  \\hfill\n",
    "  \\begin{minipage}{0.45\\textwidth}\n",
    "    \\centering\n",
    "    \\includegraphics{figures/jermann98_IRF_ez_o2_alt.eps}\n",
    "    \\caption*{order = 2, altered model}\n",
    "  \\end{minipage}\n",
    "\\end{figure}\n",
    "\n",
    "%\\begin{figure}[H]\n",
    "%  \\begin{minipage}{0.45\\textwidth}\n",
    "%    \\centering\n",
    "%    \\includegraphics{figures/jermann98_IRF_ez_o3.eps}\n",
    "%    \\caption*{order = 3, original model}\n",
    "%  \\end{minipage}\n",
    "%  \\hfill\n",
    "%  \\begin{minipage}{0.45\\textwidth}\n",
    "%    \\centering\n",
    "%    \\includegraphics{figures/jermann98_IRF_ez_o3_alt.eps}\n",
    "%    \\caption*{order = 3, altered model}\n",
    "%  \\end{minipage}\n",
    "%\\end{figure}\n",
    "```\n",
    "\n",
    "We can see that mainly in the first order, we have a slower adjustment, as expected. The second and third order approximations present much more oscillation, which could indicate problems in the code.\n",
    "\n",
    "Obs: the 3rd order figures couldn't be handled by latex. I am uploading the relevant _.eps_ files thus.\n",
    "\n",
    "Obs: i was unsure wether to interpret the figures of $mu$ or $erp1$ for the risk premia."
   ]
  },
  {
   "cell_type": "code",
   "execution_count": 16,
   "metadata": {},
   "outputs": [
    {
     "data": {
      "text/plain": [
       "'figures/jermann98_IRF_ez_o1.eps'"
      ]
     },
     "execution_count": 16,
     "metadata": {},
     "output_type": "execute_result"
    }
   ],
   "source": [
    "#| include: false\n",
    "\n",
    "order = 1\n",
    "add = '' #_alt\n",
    "\n",
    "move(\n",
    "        'dynare_scripts/jermann98/jermann98/graphs/jermann98_IRF_ez.eps',\n",
    "        f'figures/jermann98_IRF_ez_o{order}{add}.eps'\n",
    "    )"
   ]
  }
 ],
 "metadata": {
  "kernelspec": {
   "display_name": "Python 3",
   "language": "python",
   "name": "python3"
  },
  "language_info": {
   "codemirror_mode": {
    "name": "ipython",
    "version": 3
   },
   "file_extension": ".py",
   "mimetype": "text/x-python",
   "name": "python",
   "nbconvert_exporter": "python",
   "pygments_lexer": "ipython3",
   "version": "3.12.0"
  }
 },
 "nbformat": 4,
 "nbformat_minor": 4
}
